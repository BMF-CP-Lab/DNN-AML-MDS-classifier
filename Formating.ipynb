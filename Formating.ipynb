{
 "cells": [
  {
   "cell_type": "markdown",
   "id": "90e87f99-fcab-4013-8b92-84c7d9ce7b1d",
   "metadata": {},
   "source": [
    "Data formating for PML Model building"
   ]
  },
  {
   "cell_type": "code",
   "execution_count": 27,
   "id": "20ae85a7-bd59-485a-8746-f0bcae82d9d4",
   "metadata": {
    "tags": []
   },
   "outputs": [
    {
     "data": {
      "application/javascript": [
       "if (!(\"Notification\" in window)) {\n",
       "    alert(\"This browser does not support desktop notifications, so the %%notify magic will not work.\");\n",
       "} else if (Notification.permission !== 'granted' && Notification.permission !== 'denied') {\n",
       "    Notification.requestPermission(function (permission) {\n",
       "        if(!('permission' in Notification)) {\n",
       "            Notification.permission = permission;\n",
       "        }\n",
       "    })\n",
       "}\n",
       "\n",
       "if(!window.jQuery) {\n",
       "    var jq = document.createElement('script');\n",
       "    jq.src = \"//ajax.googleapis.com/ajax/libs/jquery/2.1.4/jquery.min.js\";\n",
       "    document.getElementsByTagName('head')[0].appendChild(jq);\n",
       "}\n",
       "\n",
       "// Detect if the window is out of focus.\n",
       "window.jupyterNotifyIsInBackground = undefined;\n",
       "(function() {\n",
       "    // Check document.hidden support\n",
       "    var hidden;\n",
       "    if (typeof document.hidden !== \"undefined\") { // Opera 12.10 and Firefox 18 and later support\n",
       "      hidden = \"hidden\";\n",
       "    } else if (typeof document.msHidden !== \"undefined\") {\n",
       "      hidden = \"msHidden\";\n",
       "    } else if (typeof document.webkitHidden !== \"undefined\") {\n",
       "      hidden = \"webkitHidden\";\n",
       "    }\n",
       "\n",
       "    // Set initial background state\n",
       "    if (document[hidden]) {\n",
       "      window.jupyterNotifyIsInBackground = true;\n",
       "    } else {\n",
       "      window.jupyterNotifyIsInBackground = false;\n",
       "    }\n",
       "\n",
       "    window.addEventListener('blur', function() { window.jupyterNotifyIsInBackground = true; }, false);\n",
       "    window.addEventListener('focus', function() { window.jupyterNotifyIsInBackground = false; }, false);\n",
       "})();\n"
      ],
      "text/plain": [
       "<IPython.core.display.Javascript object>"
      ]
     },
     "metadata": {},
     "output_type": "display_data"
    }
   ],
   "source": [
    "##Libraries needed\n",
    "\n",
    "import numpy as np\n",
    "import pandas as pd\n",
    "from keras.layers import Dense\n",
    "import matplotlib.pyplot as plt\n",
    "#from sklearn.manifold import TSNE\n",
    "from keras.optimizers import Adam\n",
    "from sklearn.decomposition import PCA\n",
    "from keras.models import Sequential, Model\n",
    "#from umap import UMAP\n",
    "from sklearn.model_selection import train_test_split\n",
    "from keras.utils import to_categorical\n",
    "from sklearn.metrics import classification_report,confusion_matrix\n",
    "import pandas as pd\n",
    "from collections import Counter\n",
    "import numpy as np\n",
    "import scanpy as sc\n",
    "from matplotlib import pyplot\n",
    "from sklearn.model_selection import train_test_split, cross_validate\n",
    "from sklearn.svm import SVC\n",
    "from sklearn.metrics import *\n",
    "import matplotlib.pyplot as plt\n",
    "from sklearn.metrics import confusion_matrix\n",
    "from sklearn.metrics import ConfusionMatrixDisplay\n",
    "import tensorflow as tf\n",
    "from tensorflow import keras\n",
    "from tensorflow.keras import layers\n",
    "import os\n",
    "%reload_ext jupyternotify"
   ]
  },
  {
   "cell_type": "markdown",
   "id": "a7164994-4508-43d0-ba17-04fb51b4a278",
   "metadata": {},
   "source": [
    "Gene intersection"
   ]
  },
  {
   "cell_type": "code",
   "execution_count": 28,
   "id": "036b9b0b-19d4-4f50-af5e-7e9b079db93d",
   "metadata": {},
   "outputs": [],
   "source": [
    "##Identify gene intersection between samples\n",
    "\n",
    "    #Loading the data (1 sample per dataset)\n",
    "\n",
    "#Rodriguez (FA)\n",
    "FApath = r'E:/AML_project/DATASETS/Rodriguez/pacientes/genecounts'\n",
    "df_FA = pd.read_csv(FApath + '/patient1.csv', sep='\\t') #read file\n",
    "df_FA = df_FA.rename({'Unnamed: 0': 'Gene'}, axis=1) #name gene column\n",
    "df_FA = df_FA.sort_values('Gene')\n",
    "genes_FA = df_FA['Gene'].to_list()\n",
    "\n",
    "#van Galen (AML)\n",
    "    #When using all sequenced genes\n",
    "AMLpath = r'E:/AML_project/DATASETS/vanGalen/pacientes/genecounts/D0'\n",
    "df_419 = pd.read_csv(AMLpath +'/GSM3587950_AML419A-D0.dem.txt.gz',sep='\\t') #read file\n",
    "df_419 = df_419.sort_values('Gene') #sort values alphabetically\n",
    "genes_AML = df_419['Gene'].to_list() #generate list of the genes\n",
    "    #When using only malignant variable genes\n",
    "# genes_vGa = pd.read_csv(\"E:/vGa_genes_AML.csv\", header= 1)\n",
    "# genes_vGa.drop(genes_vGa.columns[1:4], axis=1, inplace=True)\n",
    "# genes_vGa.drop(genes_vGa.columns[4:7], axis=1, inplace=True)\n",
    "# df_vGa = genes_vGa.sort_values('Gene')\n",
    "# genes_AML = df_vGa['Gene'].to_list()\n",
    "    \n",
    "\n",
    "#Ganan-Gómez (MDS)\n",
    "MDSpath = r'E:/AML_project/DATASETS/Ganan/pacientes/genecounts'\n",
    "healthypath = r'E:/AML_project/DATASETS/Ganan/sanos/genecounts'\n",
    "df_hu = pd.read_csv(MDSpath +'/GSM4079127_hu-CD34.txt.gz',sep='\\t') #read file\n",
    "df_47 = pd.read_csv(healthypath +'/GSM4079129_47-CD34.txt.gz',sep='\\t') #read file\n",
    "df_47 = df_47.reset_index() #reset index\n",
    "df_hu = df_hu.reset_index() #reset index\n",
    "df_47.rename(columns={'index': 'Gene'}, inplace=True) #name column with genes (previous index)\n",
    "df_hu.rename(columns={'index': 'Gene'}, inplace=True) #name column with genes (previous index)\n",
    "#Formating genes in GG data\n",
    "for n in range(0, df_47.count()[0]): #for each data in the data frame\n",
    "    df_47.at[n,'Gene'] = df_47.at[n,'Gene'][16:] #in each gene name eliminate the first 16 characters\n",
    "for n in range(0, df_hu.count()[0]): #for each data in the data frame\n",
    "    df_hu.at[n,'Gene'] = df_hu.at[n,'Gene'][16:]#in each gene name eliminate the first 16 characters\n",
    "df_47 = df_47.sort_values('Gene') #sort values alphabetically\n",
    "df_hu = df_hu.sort_values('Gene') #sort values alphabetically\n",
    "genes_hu = df_hu['Gene'].to_list() #generate list of the genes\n",
    "genes_47 = df_47['Gene'].to_list() #generate list of the genes\n",
    "genes_MDS = list(set(genes_hu) & set(genes_47))\n",
    "\n",
    "#Simona Colla (DC)\n",
    "DCpath = r'E:/AML_project/DATASETS/Colla/genelist_DC.csv'\n",
    "df_DC = pd.read_csv(DCpath) #read file\n",
    "genes_DC = df_DC['Gene'].to_list() #generate list of the genes"
   ]
  },
  {
   "cell_type": "markdown",
   "id": "97570c04-882b-4fb1-b7c9-545f38d560f0",
   "metadata": {},
   "source": [
    "Generate list of intersecting genes between selected samples"
   ]
  },
  {
   "cell_type": "code",
   "execution_count": 4,
   "id": "3ff92517-4030-4a6f-b3cd-11681b290f9e",
   "metadata": {},
   "outputs": [],
   "source": [
    "def gene_intersection(first_list, second_list):\n",
    "    global gene_list\n",
    "    gene_list = list(set(first_list) & set(second_list))\n",
    "    global shared_genes\n",
    "    shared_genes = np.array(gene_list)"
   ]
  },
  {
   "cell_type": "code",
   "execution_count": 5,
   "id": "04b20a31-5c65-440b-b1ce-636f40427cc4",
   "metadata": {},
   "outputs": [],
   "source": [
    "    #(3 datasets)\n",
    "#Rodríguez\n",
    "# gene_list = list(set(genes_MDS) & set(genes_AML) & set(genes_FA))\n",
    "# shared_genes = np.array(gene_list)\n",
    "#Colla\n",
    "# gene_list = list(set(genes_MDS) & set(genes_AML) & set(genes_DC))\n",
    "# shared_genes = np.array(gene_list)\n",
    "\n",
    "    #(2 datasets)\n",
    "#van Galen and Rodríguez\n",
    "# gene_intersection(genes_AML, genes_FA)\n",
    "    #Ganan-Gómez and Rodríguez\n",
    "# gene_intersection(genes_MDS, genes_FA)\n",
    "    #van Galen and Colla\n",
    "# gene_intersection(genes_AML, genes_DC)\n",
    "    #Ganan-Gómez and Colla\n",
    "# gene_intersection(genes_MDS, genes_DC)\n",
    "\n",
    "    #Colla and Rodríguez\n",
    "gene_intersection(genes_DC, genes_FA)"
   ]
  },
  {
   "cell_type": "markdown",
   "id": "df44a723-db3a-4a74-b51c-5fdffb849e5e",
   "metadata": {},
   "source": [
    "Data parsing"
   ]
  },
  {
   "cell_type": "code",
   "execution_count": 31,
   "id": "1327871a-fdd4-49af-9e78-bcef68a98cf3",
   "metadata": {
    "tags": []
   },
   "outputs": [],
   "source": [
    "##Directories\n",
    "    \n",
    "    #Rodríguez\n",
    "dir_Rod_BM = \"E:/AML_project/DATASETS/Rodriguez/sanos/genecounts/\"\n",
    "dir_Rod_FA = \"E:/AML_project/DATASETS/Rodriguez/pacientes/genecounts/\"\n",
    "\n",
    "    #van Galen\n",
    "dir_vGa_BM = \"E:/AML_project/DATASETS/vanGalen/sanos/genecounts/analyze/\"\n",
    "dir_vGa_AML = \"E:/AML_project/DATASETS/vanGalen/pacientes/genecounts/D0/\"\n",
    "dir_vGa_BM_anno = \"E:/AML_project/DATASETS/vanGalen/sanos/annotations/analyze/\"\n",
    "dir_vGa_AML_anno = \"E:/AML_project/DATASETS/vanGalen/pacientes/annotations/D0/\"\n",
    "\n",
    "    #Ganan-Gómez\n",
    "dir_GG_BM = \"E:/AML_project/DATASETS/Ganan/sanos/genecounts/\"\n",
    "dir_GG_MDS = \"E:/AML_project/DATASETS/Ganan/pacientes/genecounts/\"\n",
    "dir_GG_BM_anno = \"E:/AML_project/DATASETS/Ganan/sanos/annotations/\"\n",
    "dir_GG_MDS_anno = \"E:/AML_project/DATASETS/Ganan/pacientes/annotations/\"\n",
    "\n",
    "    #Colla\n",
    "dir_Co_BM = \"E:/AML_project/DATASETS/Colla/sanos/genecounts/\"\n",
    "dir_Co_BM_anno = \"E:/AML_project/DATASETS/Colla/sanos/annotations/\"\n",
    "\n",
    "    #Output\n",
    "dir_out_data = \"E:/AML_project/DATASETS/building/\" #data\n",
    "dir_out_meta = \"E:/AML_project/METADATA/\" #metadata"
   ]
  },
  {
   "cell_type": "markdown",
   "id": "0d683f53-c13b-4402-a49a-ccb8200ffce1",
   "metadata": {},
   "source": [
    "    -Rodríguez"
   ]
  },
  {
   "cell_type": "code",
   "execution_count": 32,
   "id": "6b011414-5cc4-487a-965b-7fbe4b33c36a",
   "metadata": {
    "tags": []
   },
   "outputs": [],
   "source": [
    "##Rodríguez\n",
    "    \n",
    "    #genecounts\n",
    "    \n",
    "#Healthy individuals (BM)\n",
    "file_dir_rod = []\n",
    "file_names_rod = []\n",
    "sample_names_rod = []\n",
    "anno_names_rod = []\n",
    "\n",
    "for i in os.listdir(dir_Rod_BM):\n",
    "    path = os.path.join(dir_Rod_BM,i)\n",
    "    name = i.replace(\".csv\",\"\")\n",
    "    name_anno = i.replace(\".csv\",\"_anno\")\n",
    "    file_dir_rod.append(path)\n",
    "    file_names_rod.append(i)\n",
    "    sample_names_rod.append(name)\n",
    "    anno_names_rod.append(name_anno)"
   ]
  },
  {
   "cell_type": "markdown",
   "id": "28a75b27-7516-4d4a-92ed-b702230108f9",
   "metadata": {},
   "source": [
    "    -vanGalen"
   ]
  },
  {
   "cell_type": "code",
   "execution_count": 33,
   "id": "8f8b162b-8d09-4dac-a249-6f34460356a7",
   "metadata": {
    "tags": []
   },
   "outputs": [],
   "source": [
    "##van Galen\n",
    "\n",
    "    #genecounts\n",
    "        \n",
    "file_dir_vGa = []\n",
    "file_names_vGa = []\n",
    "sample_names_vGa = []\n",
    "\n",
    "#Healthy individuals (BM)\n",
    "for i in os.listdir(dir_vGa_BM):\n",
    "    path = os.path.join(dir_vGa_BM,i)\n",
    "    name = i.replace(\".dem.txt.gz\",\"\")\n",
    "    name = name[11:]\n",
    "    file_dir_vGa.append(path)\n",
    "    file_names_vGa.append(i)\n",
    "    sample_names_vGa.append(name)\n",
    "    \n",
    "#Patients (AML)\n",
    "for i in os.listdir(dir_vGa_AML):\n",
    "    path = os.path.join(dir_vGa_AML,i)\n",
    "    name = i.replace(\".dem.txt.gz\",\"\")\n",
    "    name = name[11:]\n",
    "    file_dir_vGa.append(path)\n",
    "    file_names_vGa.append(i)\n",
    "    sample_names_vGa.append(name)\n",
    "    \n",
    "    #annotations\n",
    "\n",
    "file_dir_vGa_anno = []\n",
    "file_names_vGa_anno = []\n",
    "anno_names_vGa = []\n",
    "\n",
    "#Healthy individuals (BM)\n",
    "for i in os.listdir(dir_vGa_BM_anno):\n",
    "    path = os.path.join(dir_vGa_BM_anno,i)\n",
    "    name = i.replace(\".anno.txt.gz\",\"_anno\")\n",
    "    name = name[11:]\n",
    "    file_dir_vGa_anno.append(path)\n",
    "    file_names_vGa_anno.append(i)\n",
    "    anno_names_vGa.append(name)\n",
    "    \n",
    "#Patients (AML)\n",
    "for i in os.listdir(dir_vGa_AML_anno):\n",
    "    path = os.path.join(dir_vGa_AML_anno,i)\n",
    "    name = i.replace(\".anno.txt.gz\",\"_anno\")\n",
    "    name = name[11:]\n",
    "    file_dir_vGa_anno.append(path)\n",
    "    file_names_vGa_anno.append(i)\n",
    "    anno_names_vGa.append(name)"
   ]
  },
  {
   "cell_type": "markdown",
   "id": "fa33d4f0-a425-438b-ba5c-a650d7aabb2a",
   "metadata": {},
   "source": [
    "    -Ganan-Gómez"
   ]
  },
  {
   "cell_type": "code",
   "execution_count": 34,
   "id": "11865828-bcca-4a1e-9eb2-d53413ae08d1",
   "metadata": {
    "tags": []
   },
   "outputs": [],
   "source": [
    "##Ganan-Gómez\n",
    "\n",
    "    #genecounts\n",
    "        \n",
    "file_dir_GG = []\n",
    "file_names_GG = []\n",
    "sample_names_GG = []\n",
    "anno_names_GG = []\n",
    "\n",
    "\n",
    "#Healthy individuals (BM)\n",
    "for i in os.listdir(dir_GG_BM):\n",
    "    path = os.path.join(dir_GG_BM,i)\n",
    "    name = i.replace(\".txt.gz\",\"\")\n",
    "    name = name[11:]\n",
    "    name_anno = i.replace(\".txt.gz\",\"_anno\")\n",
    "    name_anno = name_anno[11:]\n",
    "    file_dir_GG.append(path)\n",
    "    file_names_GG.append(i)\n",
    "    sample_names_GG.append(name)\n",
    "    anno_names_GG.append(name_anno)\n",
    "    \n",
    "#Patients (AML)\n",
    "for i in os.listdir(dir_GG_MDS):\n",
    "    path = os.path.join(dir_GG_MDS,i)\n",
    "    name = i.replace(\".txt.gz\",\"\")\n",
    "    name = name[11:]\n",
    "    name_anno = i.replace(\".txt.gz\",\"_anno\")\n",
    "    name_anno = name_anno[11:]\n",
    "    file_dir_GG.append(path)\n",
    "    file_names_GG.append(i)\n",
    "    sample_names_GG.append(name)\n",
    "    anno_names_GG.append(name_anno)\n",
    "    \n",
    "    \n",
    "#Out directories\n",
    "\n",
    "dir_anno_GG_0 = dir_GG_BM_anno + anno_names_GG[0] \n",
    "dir_anno_GG_1 = dir_GG_BM_anno + anno_names_GG[1]\n",
    "dir_anno_GG_2 = dir_GG_MDS_anno + anno_names_GG[2]\n",
    "dir_anno_GG_3 = dir_GG_MDS_anno + anno_names_GG[3]"
   ]
  },
  {
   "cell_type": "markdown",
   "id": "82bf4447-bda3-498c-ac2a-153f977f8fb3",
   "metadata": {},
   "source": [
    "    -Colla"
   ]
  },
  {
   "cell_type": "code",
   "execution_count": 35,
   "id": "455378e5-dcb3-4cc3-830a-85986bddc083",
   "metadata": {
    "tags": []
   },
   "outputs": [],
   "source": [
    "##Colla\n",
    "\n",
    "    #genecounts\n",
    "        \n",
    "file_dir_Co = []\n",
    "file_names_Co = []\n",
    "sample_names_Co = []\n",
    "anno_names_Co = []\n",
    "\n",
    "\n",
    "#Healthy individuals (BM)\n",
    "for i in os.listdir(dir_Co_BM):\n",
    "    path = os.path.join(dir_Co_BM,i)\n",
    "    name = i.replace(\".csv.gz\",\"\")\n",
    "    name = name[11:]\n",
    "    name_anno = i.replace(\".csv.gz\",\"_anno\")\n",
    "    name_anno = name_anno[11:]\n",
    "    file_dir_Co.append(path)\n",
    "    file_names_Co.append(i)\n",
    "    sample_names_Co.append(name)\n",
    "    anno_names_Co.append(name_anno)\n",
    "    \n",
    "    \n",
    "#Out directories fro annotations\n",
    "\n",
    "dir_anno_Co_0 = dir_Co_BM_anno + anno_names_Co[0] \n",
    "dir_anno_Co_1 = dir_Co_BM_anno + anno_names_Co[1]\n",
    "dir_anno_Co_2 = dir_Co_BM_anno + anno_names_Co[2]\n",
    "dir_anno_Co_3 = dir_Co_BM_anno + anno_names_Co[3]"
   ]
  },
  {
   "cell_type": "code",
   "execution_count": 36,
   "id": "3dfb2665-7d1a-45b8-88f1-f22d0db0c759",
   "metadata": {},
   "outputs": [],
   "source": [
    "#Combination of datasets\n",
    "\n",
    "# comb = \"RvG\"\n",
    "# comb = \"RGG\"\n",
    "# comb = \"CovG\"\n",
    "# comb = \"CoGG\"\n",
    "# comb = \"CoR\"\n",
    "comb = \"R\""
   ]
  },
  {
   "cell_type": "markdown",
   "id": "f65e62b0-b9d2-4a04-8254-7122f1ea5532",
   "metadata": {},
   "source": [
    "Generate general dataframes for genecounts and annotations to merge datasets"
   ]
  },
  {
   "cell_type": "code",
   "execution_count": 37,
   "id": "96d85c06-0dc3-4818-99b2-087d0cc64923",
   "metadata": {},
   "outputs": [],
   "source": [
    "#Generate empty dataframe as template to merge others\n",
    "data = []\n",
    "all_samples = pd.DataFrame(data,index = gene_list)\n",
    "anno = []\n",
    "all_anno = pd.DataFrame(anno, columns = [\"PredictionRefined\",\"CellType\"])"
   ]
  },
  {
   "cell_type": "markdown",
   "id": "51289dba-5edd-44f3-b363-065b7b316970",
   "metadata": {},
   "source": [
    "Sampling and annotating composite dataset to train model"
   ]
  },
  {
   "cell_type": "markdown",
   "id": "5d50019f-f6bc-464b-8fb5-3235bb183c2c",
   "metadata": {},
   "source": [
    "    Just run the datasets that you want to merge"
   ]
  },
  {
   "cell_type": "markdown",
   "id": "1629886f-f963-4110-b8b8-2d595841174e",
   "metadata": {},
   "source": [
    "        -vanGalen"
   ]
  },
  {
   "cell_type": "code",
   "execution_count": 43,
   "id": "b9e959ca-0b6b-400a-ad43-4947211509ba",
   "metadata": {
    "tags": []
   },
   "outputs": [],
   "source": [
    "##vanGalen (AML)\n",
    "\n",
    "    #Loading data\n",
    "\n",
    "#Load cell count file\n",
    "for n in range(0, len(file_dir_vGa)):\n",
    "    sample_names_vGa[n] = pd.read_csv(file_dir_vGa[n],sep='\\t') #Read file   \n",
    "    \n",
    "#Load annotation file \n",
    "for n in range(0, len(file_dir_vGa_anno)):\n",
    "    anno_names_vGa[n] = pd.read_csv(file_dir_vGa_anno[n],sep='\\t') #Read file\n",
    "    \n",
    "    #Sampling intersecting gene\n",
    "\n",
    "#Select only genes found in the intersection and create gene(row) and cell(column) dataframe \n",
    "for n in range(0, len(file_dir_vGa)):\n",
    "    gene_num_vGa = [i for i, x in enumerate(sample_names_vGa[n]['Gene']) if x in gene_list] #selecting row numbers of the genes found in the intersection\n",
    "    sample_names_vGa[n] = sample_names_vGa[n].iloc[gene_num_vGa, :] #create dataframe with only the row numbers of the genes found in the intersection\n",
    "    sample_names_vGa[n].index = gene_list #change index to list of gene names\n",
    "\n",
    "    #Sampling malignant and non-malignant cells\n",
    "        \n",
    "#Cells that where classified by differentiation (-like = malignant in most cases)\n",
    "lineg_like_cells = ['HSC-like', 'Prog-like', 'GMP-like', 'ProMono-like'] \n",
    "lineg_cells = ['HSC', 'Prog', 'GMP', 'ProMono']\n",
    "\n",
    "#Define and identify non-malignant and malignant cells (only the lineages that wished to be used) in the annotation file\n",
    "malignant_cells = ['malignant']\n",
    "nonmalignant_cells = ['normal', \"unclear\"]\n",
    "\n",
    "#Extract the malignant and non-malignant cells from each file (cell counts and annotations)\n",
    "for n in range(0, len(file_dir_vGa_anno)):\n",
    "    \n",
    "#identifying malignant and non-malignant cells that are lineage negative from the annotation files\n",
    "    num_lineg_like = [i for i,x in enumerate(anno_names_vGa[n].CellType) if x in lineg_like_cells]  #selecting row numbers of lineage neg-like cells\n",
    "    num_lineg = [i for i,x in enumerate(anno_names_vGa[n].CellType) if x in lineg_cells] #selecting row numbers of lineage-neg cells\n",
    "    \n",
    "    num_malignant = [i for i,x in enumerate(anno_names_vGa[n].PredictionRefined) if x in malignant_cells]  #selecting row numbers of the malignant cells in annotation file\n",
    "    num_nonmalignant = [i for i,x in enumerate(anno_names_vGa[n].PredictionRefined) if x in nonmalignant_cells] #selecting row numbers of the non-malignant cells in annotation file\n",
    "    \n",
    "    num_mal_lineg = [x for x in num_malignant if x in num_lineg_like] #listing the row numbers that are lineage negative and malignant\n",
    "    num_nonmal_lineg  = [x for x in num_nonmalignant if x in num_lineg] #listing the row numbers that are lineage negative and non-malignant\n",
    "    \n",
    "    barcodes_vGa = list(anno_names_vGa[n].Cell[num_nonmal_lineg]) + list(anno_names_vGa[n].Cell[num_mal_lineg]) #creating list with cell IDs of malignant and non-malignant cells to identify them in cell count file\n",
    "    general_col = [i for i,x in enumerate(sample_names_vGa[n].columns) if x in barcodes_vGa]  #selecting row numbers of the malignant and non-malignant cells in the cell count file\n",
    "    \n",
    "#Extracting selected cells (only malignant and non-maliignant)\n",
    "    sample_names_vGa[n] = sample_names_vGa[n].iloc[:,general_col] #Cell counts\n",
    "    anno_num_vGa = [i for i, x in enumerate(anno_names_vGa[n]['Cell']) if x in barcodes_vGa]\n",
    "    anno_names_vGa[n] = anno_names_vGa[n].iloc[anno_num_vGa]\n",
    "\n",
    "    #Merge dataframes into the general one\n",
    "\n",
    "#Merging all files\n",
    "for n in range(1, len(file_dir_vGa_anno)):\n",
    "    all_samples = pd.merge(all_samples, sample_names_vGa[n], left_index=True, right_index=True, suffixes=('', '_drop')) #append all dataframes into a single one\n",
    "    all_anno = pd.concat([all_anno, anno_names_vGa[n]], axis=0,  ignore_index=True) #append all dataframes into a single one\n",
    "all_samples.drop([col for col in all_samples.columns if 'drop' in col], axis=1, inplace=True) #there is a duplication of columns\n",
    "\n",
    "#ONLY IF IT IS THE LAST DATASET ADDED\n",
    "    #Reseting index to gene numbers from vGa to create anndata object\n",
    "# all_samples.index = gene_num_vGa\n",
    "# del all_samples['Gene']"
   ]
  },
  {
   "cell_type": "markdown",
   "id": "5978534a-1f91-4dd7-b86c-8013ccf98bc9",
   "metadata": {},
   "source": [
    "        -Rodríguez"
   ]
  },
  {
   "cell_type": "code",
   "execution_count": 38,
   "id": "dd1cda96-4f06-4834-b9c2-807fbd8e06dc",
   "metadata": {
    "tags": []
   },
   "outputs": [],
   "source": [
    "##Rodriguez (FA)\n",
    "\n",
    "    #Loading data\n",
    "\n",
    "#Load cell count file (scRNAseq)\n",
    "for n in range(0, len(file_dir_rod)):\n",
    "    sample_names_rod[n] = pd.read_csv(file_dir_rod[n], sep='\\t') #Read file\n",
    "    sample_names_rod[n] = sample_names_rod[n].rename({'Unnamed: 0': 'Gene'}, axis=1) #Rename gene column\n",
    "    \n",
    "    #Sampling intersecting genes\n",
    "        \n",
    "#Select only genes found in the intersection and create gene(row) and cell(column) dataframe\n",
    "    gene_num_rod = [i for i, x in enumerate(sample_names_rod[n]['Gene']) if x in gene_list] #selecting row numbers of the genes found in the intersection\n",
    "    df_inter = sample_names_rod[n].iloc[gene_num_rod] #create dataframe with only the row numbers of the genes found in the intersection\n",
    "    sample_names_rod[n] = df_inter.sort_values('Gene') #sort gene rows alphabetically to match vanGalen format\n",
    "    sample_names_rod[n].index = gene_list #changing index to gene names (alphabetically ordered) to match vGa data frame indexes\n",
    "    sample_names_rod[n]= sample_names_rod[n].drop('Gene', axis=1) #remove gene column\n",
    "    sample_names_rod[n] = sample_names_rod[n].add_suffix(\"_FA\")\n",
    "    \n",
    "    #Annotating data based on vanGalen classification\n",
    "\n",
    "#Creata annotation file with celltype and class \n",
    "    columns = sample_names_rod[n].columns.values #get list of cell IDs (column names)\n",
    "    columns = columns[0:,] #extract cell IDs only (columns, without the first one = gene)\n",
    "    anno_names_rod[n] = pd.DataFrame(columns) #create dataframe with cell IDs as rows\n",
    "    anno_names_rod[n] = anno_names_rod[n].rename({0: 'Cell'}, axis=1) #name the first column as Cell\n",
    "    anno_names_rod[n] = pd.DataFrame(anno_names_rod[n],columns=['Cell','PredictionRefined']) #add columns based on vanGalen annotations (celltype and class)\n",
    "    anno_names_rod[n]['PredictionRefined'] = \"normal\" #define all cells as normal (data is from a healthy individual)\n",
    "    anno_names_rod[n]['CellType'] = 'lin-' #define all cells as lin- (data is from lin- cells)\n",
    "    \n",
    "    #Show summary of the amount of cells per celltype and class\n",
    "    # print(\"The sample has:\")\n",
    "    # print(Counter(annohealthy1.PredictionRefined)) #print number of cells in class\n",
    "    # print(Counter(annohealthy1.CellType)) #print number of cells in each celltype\n",
    "    \n",
    "    #Merge dataframes into the general one\n",
    "    \n",
    "#Merging all files\n",
    "    all_samples = pd.merge(all_samples, sample_names_rod[n], left_index=True, right_index=True, suffixes=('', '_drop')) #append all dataframes into the van Galen merge\n",
    "    all_anno = pd.concat([all_anno, anno_names_rod[n]], axis=0,  ignore_index=True) #append all dataframes into a single one\n",
    "all_samples.drop([col for col in all_samples.columns if 'drop' in col], axis=1, inplace=True) #there is a duplication of columns\n",
    "\n",
    "#ONLY IF IT IS THE LAST DATASET ADDED\n",
    "    #Reseting index to gene numbers from vGa to create anndata object\n",
    "# all_samples.index = gene_num_rod\n",
    "# del all_samples['Gene']"
   ]
  },
  {
   "cell_type": "markdown",
   "id": "b7d2952e-6151-4b28-8a4f-8c9832fb7adc",
   "metadata": {},
   "source": [
    "        -Colla"
   ]
  },
  {
   "cell_type": "code",
   "execution_count": 141,
   "id": "70de54f7-7d6d-4a16-b67a-3aa10ff9b5c3",
   "metadata": {
    "tags": []
   },
   "outputs": [],
   "source": [
    "##Colla\n",
    "\n",
    "    #Loading data\n",
    "donors = [\"1\",\"2\",\"3\",\"4\"]\n",
    "\n",
    "#Load cell count file\n",
    "for n in range(0, len(file_dir_Co)):\n",
    "    sample_names_Co[n] = pd.read_csv(file_dir_Co[n]) #Read file\n",
    "    sample_names_Co[n]['Gene'] = genes_DC #change gene IDs to gene names (previously obtained)\n",
    "    sample_names_Co[n] = sample_names_Co[n].drop_duplicates(['Gene']) #Eliminating gene duplicates (only Ganan-Gómez data has them)\n",
    "    del sample_names_Co[n]['Unnamed: 0'] #remove column with gene IDs \n",
    "\n",
    "\n",
    "    #Sampling intersecting genes\n",
    "        \n",
    "#Select only genes found in the intersection and create gene(row) and cell(column) dataframe\n",
    "    gene_num_Co = [i for i, x in enumerate(sample_names_Co[n]['Gene']) if x in gene_list] #selecting row numbers of the genes found in the intersection\n",
    "    df_inter = sample_names_Co[n].iloc[gene_num_Co] #create dataframe with only the row numbers of the genes found in the intersection\n",
    "    sample_names_Co[n] = df_inter.sort_values('Gene') #sort gene rows alphabetically to match vanGalen format\n",
    "    sample_names_Co[n].index = gene_list #changing index to gene names (alphabetically ordered) to match vGa data frame indexes\n",
    "    sample_names_Co[n]= sample_names_Co[n].drop('Gene', axis=1) #remove gene column\n",
    "    sample_names_Co[n] = sample_names_Co[n].add_suffix(\"_Healthy_\" + donors[n] + \"_DC\")\n",
    "    \n",
    "    #Annotating data based on vanGalen classification\n",
    "\n",
    "#Creata annotation file with celltype and class \n",
    "    columns = sample_names_Co[n].columns.values #get list of cell IDs (column names)\n",
    "    columns = columns[0:,] #extract cell IDs only (columns, without the first one = gene)\n",
    "    anno_names_Co[n] = pd.DataFrame(columns) #create dataframe with cell IDs as rows\n",
    "    anno_names_Co[n] = anno_names_Co[n].rename({0: 'Cell'}, axis=1) #name the first column as Cell\n",
    "    anno_names_Co[n] = pd.DataFrame(anno_names_Co[n],columns=['Cell','PredictionRefined']) #add columns based on vanGalen annotations (celltype and class)\n",
    "    anno_names_Co[n]['CellType'] = 'lin-' #define all cells as lin- (data is from lin- cells)\n",
    "    anno_names_Co[n]['PredictionRefined'] = \"normal\" #define all cells as normal (data is from a healthy individual)\n",
    "    \n",
    "    if n == 0:\n",
    "        anno_names_Co[n].to_csv(dir_anno_Co_0 + \".csv\", index = False)\n",
    "    if n == 1:\n",
    "        anno_names_Co[n].to_csv(dir_anno_Co_1 + \".csv\", index = False)\n",
    "    if n == 2:\n",
    "        anno_names_Co[n].to_csv(dir_anno_Co_2 + \".csv\", index = False)\n",
    "    if n == 3:\n",
    "        anno_names_Co[n].to_csv(dir_anno_Co_3 + \".csv\", index = False)\n",
    "    \n",
    "    #Show summary of the amount of cells per celltype and class\n",
    "    # print(\"The sample has:\")\n",
    "    # print(Counter(annohealthy1.PredictionRefined)) #print number of cells in class\n",
    "    # print(Counter(annohealthy1.CellType)) #print number of cells in each celltype\n",
    "    \n",
    "    #Merge dataframes into the general one\n",
    "    \n",
    "#Merging all files\n",
    "    all_samples = pd.merge(all_samples, sample_names_Co[n], left_index=True, right_index=True, suffixes=('', '_drop')) #append all dataframes into the van Galen merge\n",
    "    all_anno = pd.concat([all_anno, anno_names_Co[n]], axis=0,  ignore_index=True) #append all dataframes into a single one\n",
    "all_samples.drop([col for col in all_samples.columns if 'drop' in col], axis=1, inplace=True) #there is a duplication of columns\n",
    "\n",
    "#ONLY IF IT IS THE LAST DATASET ADDED\n",
    "    #Reseting index to gene numbers from vGa to create anndata object\n",
    "# all_samples.index = gene_num_Co\n"
   ]
  },
  {
   "cell_type": "markdown",
   "id": "19dcdc26-412a-4797-bd5d-c6b324b83ee4",
   "metadata": {},
   "source": [
    "        -Ganan-Gómez"
   ]
  },
  {
   "cell_type": "code",
   "execution_count": 60,
   "id": "84ac2054-cc64-4775-91d9-aa1669195473",
   "metadata": {
    "tags": []
   },
   "outputs": [],
   "source": [
    "##Ganan-Gómez\n",
    "\n",
    "    #Loading data\n",
    "\n",
    "#Load cell count file\n",
    "for n in range(0, len(file_dir_GG)):\n",
    "    sample_names_GG[n] = pd.read_csv(file_dir_GG[n],sep='\\t') #Read file\n",
    "    sample_names_GG[n] = sample_names_GG[n].reset_index() #reset index\n",
    "    sample_names_GG[n].rename(columns={'index': 'Gene'}, inplace=True) #name column with genes (previous index) \n",
    "#Formating genes in GG data (eliminate gene ID number)\n",
    "    for i in range(0, sample_names_GG[n].count()[0]):\n",
    "        sample_names_GG[n].at[i,'Gene'] = sample_names_GG[n].at[i,'Gene'][16:]\n",
    "\n",
    "#Eliminating gene duplicates (only Ganan-Gómez data has them)\n",
    "    sample_names_GG[n] = sample_names_GG[n].drop_duplicates(['Gene'])\n",
    "\n",
    "    #Sampling intersecting genes\n",
    "        \n",
    "#Select only genes found in the intersection and create gene(row) and cell(column) dataframe\n",
    "    gene_num_GG = [i for i, x in enumerate(sample_names_GG[n]['Gene']) if x in gene_list] #selecting row numbers of the genes found in the intersection\n",
    "    df_inter = sample_names_GG[n].iloc[gene_num_GG] #create dataframe with only the row numbers of the genes found in the intersection\n",
    "    sample_names_GG[n] = df_inter.sort_values('Gene') #sort gene rows alphabetically to match vanGalen format\n",
    "    sample_names_GG[n].index = gene_list #changing index to gene names (alphabetically ordered) to match vGa data frame indexes\n",
    "    sample_names_GG[n]= sample_names_GG[n].drop('Gene', axis=1) #remove gene column\n",
    "    \n",
    "    #Annotating data based on vanGalen classification\n",
    "\n",
    "#Creata annotation file with celltype and class \n",
    "    columns = sample_names_GG[n].columns.values #get list of cell IDs (column names)\n",
    "    columns = columns[0:,] #extract cell IDs only (columns, without the first one = gene)\n",
    "    anno_names_GG[n] = pd.DataFrame(columns) #create dataframe with cell IDs as rows\n",
    "    anno_names_GG[n] = anno_names_GG[n].rename({0: 'Cell'}, axis=1) #name the first column as Cell\n",
    "    anno_names_GG[n] = pd.DataFrame(anno_names_GG[n],columns=['Cell','PredictionRefined','Patient_type']) #add columns based on vanGalen annotations (celltype and class)\n",
    "    anno_names_GG[n]['CellType'] = 'lin-' #define all cells as lin- (data is from lin- cells)\n",
    "    if n < 2:\n",
    "        anno_names_GG[n]['PredictionRefined'] = \"normal\" #define all cells as normal (data is from a healthy individual)\n",
    "    else:\n",
    "        anno_names_GG[n]['PredictionRefined'] = \"malignant\" #define all cells as normal (data is from a healthy individual)\n",
    "        \n",
    "    if n == 0:\n",
    "        anno_names_GG[n]['Patient_type'] = \"normal\" #define patient as normal\n",
    "        anno_names_GG[n].to_csv(dir_anno_GG_0 + \".csv\", index = False)\n",
    "    if n == 1:\n",
    "        anno_names_GG[n]['Patient_type'] = \"normal\" #define patient as normal\n",
    "        anno_names_GG[n].to_csv(dir_anno_GG_1 + \".csv\",index = False)\n",
    "    if n == 2:\n",
    "        anno_names_GG[n]['Patient_type'] = \"CMP\" #define patient as CMP\n",
    "        anno_names_GG[n].to_csv(dir_anno_GG_2 + \".csv\",index = False)\n",
    "    if n == 3:\n",
    "        anno_names_GG[n]['Patient_type'] = \"GMP\" #define patient as GMP\n",
    "        anno_names_GG[n].to_csv(dir_anno_GG_3 + \".csv\",index = False)\n",
    "        \n",
    "    del anno_names_GG[n]['Patient_type'] #this column will be used ofr other analysis but not for the model building\n",
    "            \n",
    "    #Show summary of the amount of cells per celltype and class\n",
    "    # print(\"The sample has:\")\n",
    "    # print(Counter(annohealthy1.PredictionRefined)) #print number of cells in class\n",
    "    # print(Counter(annohealthy1.CellType)) #print number of cells in each celltype\n",
    "    \n",
    "    #Merge dataframes into the general one\n",
    "    \n",
    "#Merging all files\n",
    "    all_samples = pd.merge(all_samples, sample_names_GG[n], left_index=True, right_index=True, suffixes=('', '_drop')) #append all dataframes into the van Galen merge\n",
    "    all_anno = pd.concat([all_anno, anno_names_GG[n]], axis=0,  ignore_index=True) #append all dataframes into a single one\n",
    "all_samples.drop([col for col in all_samples.columns if 'drop' in col], axis=1, inplace=True) #there is a duplication of columns\n",
    "\n",
    "#ONLY IF IT IS THE LAST DATASET ADDED\n",
    "    #Reseting index to gene numbers from vGa to create anndata object\n",
    "# all_samples.index = gene_num_GG\n",
    "# del all_samples['Gene']"
   ]
  },
  {
   "cell_type": "code",
   "execution_count": 39,
   "id": "25ce0818-f521-4568-86fb-839701458945",
   "metadata": {},
   "outputs": [],
   "source": [
    "#Run at the end of every combination to get the IDs of the cells of the dataframe\n",
    "barcodes_general = all_samples.columns.values.tolist()"
   ]
  },
  {
   "cell_type": "markdown",
   "id": "9d7a38f9-e197-410e-bc41-d55d424f5eee",
   "metadata": {},
   "source": [
    "Check the sum of the cells"
   ]
  },
  {
   "cell_type": "code",
   "execution_count": null,
   "id": "df57f615-a041-463d-bbf1-e129c3adc3d3",
   "metadata": {
    "jupyter": {
     "source_hidden": true
    },
    "tags": []
   },
   "outputs": [],
   "source": [
    "#Check the concatenations was done correctly\n",
    "\n",
    "#vanGalen\n",
    "# sumvGa = 0\n",
    "# for n in range(0, len(file_dir_vGa)):\n",
    "#     b = sample_names_vGa[n].shape[1]\n",
    "#     sumvGa = sumvGa + b\n",
    "# print(\"The total number of cells in van Galen is:\", sumvGa)\n",
    "\n",
    "#Rodríguez\n",
    "sumRod = 0\n",
    "for n in range(0, len(file_dir_rod)):\n",
    "    b = sample_names_rod[n].shape[1]\n",
    "    sumRod = sumRod + b\n",
    "print(\"The total number of cells in Rodríguez is:\", sumRod)\n",
    "\n",
    "# #Ganan-Gómez\n",
    "sumGG = 0\n",
    "for n in range(0, len(file_dir_GG)):\n",
    "    b = sample_names_GG[n].shape[1]\n",
    "    sumGG = sumGG + b\n",
    "print(\"The total number of cells in Ganan-Gómez is:\", sumGG)\n",
    "\n",
    "#Colla\n",
    "# sumCo = 0\n",
    "# for n in range(0, len(file_dir_Co)):\n",
    "#     b = sample_names_Co[n].shape[1]\n",
    "#     sumCo = sumCo + b\n",
    "# print(\"The total number of cells in Colla is:\", sumCo)"
   ]
  },
  {
   "cell_type": "markdown",
   "id": "809c4e4c-4fc9-47b7-a5b8-9d66be86420f",
   "metadata": {},
   "source": [
    "Separating malignant and non-malignant cells in diferent files"
   ]
  },
  {
   "cell_type": "code",
   "execution_count": null,
   "id": "94b57bfb-5861-431e-aa0b-cfd894a46493",
   "metadata": {
    "jupyter": {
     "source_hidden": true
    },
    "tags": []
   },
   "outputs": [],
   "source": [
    "#****Separating malignant and non-malignant cells in diferent files** (this data can be used for further analysis)\n",
    "\n",
    "    #Identifying malignant and non-malignant cell #s\n",
    "    barcodes_malignant = list(anno_names_vGa[n].Cell[num_mal_lineg]) #creating list with cell IDs of malignant cells to identify them in cell count file\n",
    "    barcodes_nonmalignant = list(anno_names_vGa[n].Cell[num_nonmal_lineg]) #creating list with cell IDs of non-malignant cells to identify them in cell count file\n",
    "\n",
    "    #Identify non-malignant and malignant cells from the annotation file (cell #) in the cell count file\n",
    "    malignant_col = [i for i,x in enumerate(sample_names_vGa[n].columns) if x in barcodes_malignant]  #selecting row numbers of the malignant cells in cell count file\n",
    "    nonmalignant_col = [i for i,x in enumerate(sample_names_vGa[n].columns) if x in barcodes_nonmalignant] #selecting row numbers of the non-malignant cells in cell count file\n",
    "\n",
    "    #Generate malignant and non-malingant dataframes (this can be used later)\n",
    "    malignant = sample_names_vGa[n].iloc[:,malignant_col] #dataframe with cells that are malignant\n",
    "    nonmalignant = sample_names_vGa[n].iloc[:,nonmalignant_col] #dataframe with cells that are non-malignant\n",
    "\n",
    "    #Show summary of the amount of cells per celltype and class\n",
    "    # print(\"The sample has:\")\n",
    "    # print(Counter(anno_names_vGa[n].CellType))\n",
    "    # print(len(num_mal_lineg))\n",
    "    # print(len(num_nonmal_lineg))"
   ]
  },
  {
   "cell_type": "markdown",
   "id": "e11e4897-8dc5-4660-9ced-62ef6744b6ce",
   "metadata": {},
   "source": [
    "Saving output files"
   ]
  },
  {
   "cell_type": "code",
   "execution_count": 40,
   "id": "9982e3dd-ff16-45c2-81ae-56b1b6bae651",
   "metadata": {
    "tags": []
   },
   "outputs": [],
   "source": [
    "#Save data\n",
    "\n",
    "    #Merged dataframe\n",
    "all_samples.to_csv(dir_out_data + \"all_samples_\" + comb + \".csv\")\n",
    "\n",
    "    #Merged annotations\n",
    "all_anno.to_csv(dir_out_data + \"all_anno_\" + comb + \".csv\")\n",
    "\n",
    "#Save Metadata\n",
    "\n",
    "    #List of intersecting genes\n",
    "with open(dir_out_meta + \"gene_list_\" + comb + \".txt\", \"w\") as output:\n",
    "        output.write(str(gene_list))\n",
    "        \n",
    "    #List of cell IDs \n",
    "with open(dir_out_meta + \"barcodes_general_\" + comb + \".txt\", \"w\") as output:\n",
    "        output.write(str(barcodes_general))"
   ]
  },
  {
   "cell_type": "code",
   "execution_count": 63,
   "id": "73635156-e1b0-49b2-9845-e4f35087b48f",
   "metadata": {},
   "outputs": [
    {
     "name": "stdout",
     "output_type": "stream",
     "text": [
      "Finished!\n"
     ]
    },
    {
     "data": {
      "application/javascript": [
       "$(document).ready(\n",
       "    function() {\n",
       "        function appendUniqueDiv(){\n",
       "            // append a div with our uuid so we can check that it's already\n",
       "            // been sent and avoid duplicates on page reload\n",
       "            var notifiedDiv = document.createElement(\"div\")\n",
       "            notifiedDiv.id = \"928928f8-e21c-4dea-b425-e67ffafc19a9\"\n",
       "            element.append(notifiedDiv)\n",
       "        }\n",
       "\n",
       "        // only send notifications if the pageload is complete; this will\n",
       "        // help stop extra notifications when a saved notebook is loaded,\n",
       "        // which during testing gives us state \"interactive\", not \"complete\"\n",
       "        if (document.readyState === 'complete') {\n",
       "            // check for the div that signifies that the notification\n",
       "            // was already sent\n",
       "            if (document.getElementById(\"928928f8-e21c-4dea-b425-e67ffafc19a9\") === null) {\n",
       "                var notificationPayload = {\"requireInteraction\": false, \"icon\": \"/static/base/images/favicon.ico\", \"body\": \"Cell execution has finished!\", \"only_in_background\": false};\n",
       "\n",
       "                // We have a notification but the window is active\n",
       "                if (notificationPayload.only_in_background && !window.jupyterNotifyIsInBackground) {\n",
       "                    appendUniqueDiv();\n",
       "                    return;\n",
       "                }\n",
       "                if (Notification.permission !== 'denied') {\n",
       "                    if (Notification.permission !== 'granted') { \n",
       "                        Notification.requestPermission(function (permission) {\n",
       "                            if(!('permission' in Notification)) {\n",
       "                                Notification.permission = permission\n",
       "                            }\n",
       "                        })\n",
       "                    }\n",
       "                    if (Notification.permission === 'granted') {\n",
       "                    var notification = new Notification(\"Jupyter Notebook\", notificationPayload)\n",
       "                    appendUniqueDiv()\n",
       "                    notification.onclick = function () {\n",
       "                        window.focus();\n",
       "                        this.close();\n",
       "                        };\n",
       "                    } \n",
       "                }     \n",
       "            }\n",
       "        }\n",
       "    }\n",
       ")\n"
      ],
      "text/plain": [
       "<IPython.core.display.Javascript object>"
      ]
     },
     "metadata": {},
     "output_type": "display_data"
    }
   ],
   "source": [
    "%%notify\n",
    "print(\"Finished!\")"
   ]
  }
 ],
 "metadata": {
  "kernelspec": {
   "display_name": "Python 3 (ipykernel)",
   "language": "python",
   "name": "python3"
  },
  "language_info": {
   "codemirror_mode": {
    "name": "ipython",
    "version": 3
   },
   "file_extension": ".py",
   "mimetype": "text/x-python",
   "name": "python",
   "nbconvert_exporter": "python",
   "pygments_lexer": "ipython3",
   "version": "3.9.12"
  }
 },
 "nbformat": 4,
 "nbformat_minor": 5
}
