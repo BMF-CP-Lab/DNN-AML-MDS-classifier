{
 "cells": [
  {
   "cell_type": "markdown",
   "id": "369e9ba2-f42e-4627-b516-12e4597d898c",
   "metadata": {},
   "source": [
    "Multilayer Perceptror Model Building"
   ]
  },
  {
   "cell_type": "code",
   "execution_count": 34,
   "id": "166bf126-c772-4fbd-8a6b-495307e06093",
   "metadata": {},
   "outputs": [
    {
     "data": {
      "application/javascript": [
       "if (!(\"Notification\" in window)) {\n",
       "    alert(\"This browser does not support desktop notifications, so the %%notify magic will not work.\");\n",
       "} else if (Notification.permission !== 'granted' && Notification.permission !== 'denied') {\n",
       "    Notification.requestPermission(function (permission) {\n",
       "        if(!('permission' in Notification)) {\n",
       "            Notification.permission = permission;\n",
       "        }\n",
       "    })\n",
       "}\n",
       "\n",
       "if(!window.jQuery) {\n",
       "    var jq = document.createElement('script');\n",
       "    jq.src = \"//ajax.googleapis.com/ajax/libs/jquery/2.1.4/jquery.min.js\";\n",
       "    document.getElementsByTagName('head')[0].appendChild(jq);\n",
       "}\n",
       "\n",
       "// Detect if the window is out of focus.\n",
       "window.jupyterNotifyIsInBackground = undefined;\n",
       "(function() {\n",
       "    // Check document.hidden support\n",
       "    var hidden;\n",
       "    if (typeof document.hidden !== \"undefined\") { // Opera 12.10 and Firefox 18 and later support\n",
       "      hidden = \"hidden\";\n",
       "    } else if (typeof document.msHidden !== \"undefined\") {\n",
       "      hidden = \"msHidden\";\n",
       "    } else if (typeof document.webkitHidden !== \"undefined\") {\n",
       "      hidden = \"webkitHidden\";\n",
       "    }\n",
       "\n",
       "    // Set initial background state\n",
       "    if (document[hidden]) {\n",
       "      window.jupyterNotifyIsInBackground = true;\n",
       "    } else {\n",
       "      window.jupyterNotifyIsInBackground = false;\n",
       "    }\n",
       "\n",
       "    window.addEventListener('blur', function() { window.jupyterNotifyIsInBackground = true; }, false);\n",
       "    window.addEventListener('focus', function() { window.jupyterNotifyIsInBackground = false; }, false);\n",
       "})();\n"
      ],
      "text/plain": [
       "<IPython.core.display.Javascript object>"
      ]
     },
     "metadata": {},
     "output_type": "display_data"
    }
   ],
   "source": [
    "##Libraries needed\n",
    "\n",
    "import numpy as np\n",
    "import pandas as pd\n",
    "from keras.layers import Dense\n",
    "import matplotlib.pyplot as plt\n",
    "#from sklearn.manifold import TSNE\n",
    "from keras.optimizers import Adam\n",
    "from sklearn.decomposition import PCA\n",
    "from keras.models import Sequential, Model\n",
    "#from umap import UMAP\n",
    "from sklearn.model_selection import train_test_split\n",
    "from keras.utils import to_categorical\n",
    "from sklearn.metrics import classification_report,confusion_matrix\n",
    "import pandas as pd\n",
    "from collections import Counter\n",
    "import numpy as np\n",
    "import scanpy as sc\n",
    "from matplotlib import pyplot\n",
    "from sklearn.model_selection import train_test_split, cross_validate\n",
    "from sklearn.svm import SVC\n",
    "from sklearn.metrics import *\n",
    "import matplotlib.pyplot as plt\n",
    "from sklearn.metrics import confusion_matrix\n",
    "from sklearn.metrics import ConfusionMatrixDisplay\n",
    "import tensorflow as tf\n",
    "from tensorflow import keras\n",
    "from tensorflow.keras import layers\n",
    "import os\n",
    "import ast\n",
    "%reload_ext jupyternotify"
   ]
  },
  {
   "cell_type": "code",
   "execution_count": 59,
   "id": "04dde640-a82c-44d2-b30a-e1c0cf5df5c7",
   "metadata": {},
   "outputs": [],
   "source": [
    "##Directories\n",
    "\n",
    "dir_data = \"E:/AML_project/DATASETS/building/\"\n",
    "dir_meta = \"E:/AML_project/METADATA/\"\n",
    "dir_out_data = \"E:/AML_project/DATASETS/training/\"\n",
    "\n",
    "#Combination of datasets\n",
    "\n",
    "# comb = \"RvG\"\n",
    "comb = \"RGG\"\n",
    "# comb = \"CovG\"\n",
    "# comb = \"CoGG\""
   ]
  },
  {
   "cell_type": "code",
   "execution_count": 60,
   "id": "dafcd166-924f-42e1-b735-f90dcdd5f9bc",
   "metadata": {},
   "outputs": [],
   "source": [
    "##Loading the pre-formated data (Formating.ipynb)\n",
    "\n",
    "#Dataframes\n",
    "\n",
    "    #Cell count file\n",
    "all_samples =  pd.read_csv(dir_data + \"all_samples_\" + comb + \".csv\", index_col = 0)\n",
    "\n",
    "    #Annotations\n",
    "all_anno = pd.read_csv(dir_data + \"all_anno_\" + comb + \".csv\", index_col = 0) \n",
    "\n",
    "#Metadata lists\n",
    "\n",
    "    #Shared genes (intersection)\n",
    "gene_list = open(dir_meta + \"gene_list_\" + comb + \".txt\", 'r')\n",
    "gene_list = gene_list.read()\n",
    "gene_list = ast.literal_eval(gene_list)\n",
    "shared_genes = np.array(gene_list)\n",
    "\n",
    "    #Barcodes (cell IDs)\n",
    "barcodes_general = open(dir_meta + \"barcodes_general_\" + comb + \".txt\", 'r')\n",
    "barcodes_general = barcodes_general.read()\n",
    "barcodes_general = ast.literal_eval(barcodes_general)"
   ]
  },
  {
   "cell_type": "markdown",
   "id": "03b38b29-54a4-4b5c-a85e-0bc3420839ac",
   "metadata": {},
   "source": [
    "Data formating"
   ]
  },
  {
   "cell_type": "code",
   "execution_count": 61,
   "id": "65e83fa0-321b-4b19-a73f-46983f5a141e",
   "metadata": {},
   "outputs": [
    {
     "data": {
      "image/png": "[encoded data removed]",
      "text/plain": [
       "<Figure size 360x396 with 1 Axes>"
      ]
     },
     "metadata": {
      "needs_background": "light"
     },
     "output_type": "display_data"
    }
   ],
   "source": [
    "##Creating the anndata object\n",
    "\n",
    "anndata_all = sc.AnnData(X=all_samples.T.to_numpy(), obs=barcodes_general, var=shared_genes) #transform data to Anndata format with\n",
    "                                                                                                    #barcodes (cell IDs) as obs and gene names as variables\n",
    "anndata_all.var_names = shared_genes #change gene # for names\n",
    "anndata_all.obs_names = barcodes_general #change cell # for cell IDs\n",
    "anndata_all.raw = anndata_all #*no sé porqué hacen esto\n",
    "sc.pl.highest_expr_genes(anndata_all, n_top=20, ) #calculate the 20 genes with highest expression"
   ]
  },
  {
   "cell_type": "code",
   "execution_count": 62,
   "id": "098b290b-15a7-4715-af6e-e03ee3be810f",
   "metadata": {},
   "outputs": [],
   "source": [
    "## General data processing to facilitate model efficiency\n",
    "\n",
    "    #Filtering\n",
    "# sc.pp.filter_genes(anndata_all, min_cells=80) #filter genes who have very few cells (min = 20), can also be done with cells with few counts\n",
    "\n",
    "    #Normalization (CPM)\n",
    "sc.pp.normalize_total(anndata_all, target_sum=1e6) #normalize each cell by total counts over all genes, so that every cell \n",
    "                                                   #has the same total count after normalization (target_sum = 1e6 equals CPM normalization) \n",
    "    #Transformation (log1p)\n",
    "sc.pp.log1p(anndata_all) #transformation of the data with a log1p function\n",
    "\n",
    "    #Visualization\n",
    "#box and whiskers\n",
    "# sc.pl.highest_expr_genes(anndata_all, n_top=50) #visualize the 50 highest expressing genes\n",
    "#PCA\n"
   ]
  },
  {
   "cell_type": "code",
   "execution_count": 63,
   "id": "ed227af0-1d8f-4d5b-b391-9e11114b2c9d",
   "metadata": {},
   "outputs": [
    {
     "data": {
      "text/plain": [
       "(6005, 19830)"
      ]
     },
     "execution_count": 63,
     "metadata": {},
     "output_type": "execute_result"
    }
   ],
   "source": [
    "##Preparing the input data of the model\n",
    "\n",
    "    #Based on the files, generate arrays for categorical data (cell counts, cells and class)\n",
    "dict_class = dict(zip(all_anno.Cell,all_anno.PredictionRefined)) #generate dictionary with each cell ID associated to its class\n",
    "y_class = [dict_class[x] for x in anndata_all.obs_names] #generate list with all the classes (variable Y)\n",
    "X = anndata_all.X #generate array with all the cell counts (X)\n",
    "X_train = X #**no sé porqué hacen esto\n",
    "bin_dict = dict(normal=0, unclear = 0, malignant=1) #defining binary values for the class types (0 or 1) when classifing malignant from normal\n",
    "# bin_dict = dict(normal = 0, malignant = 1) #defining binary values for the class types (0 or 1) when classifing MDS from malignant (AML)\n",
    "y_true_num = [bin_dict[x] for x in y_class] #based on the list with classes, generating a list with associated binary value (0 or 1)\n",
    "y_train = np.array(y_true_num) #changing list with class values to array (input format needed)\n",
    "\n",
    "    #Creating the categorical arrays that will enter the model for training and testing (X, cell counts:Y, cell class (binary))\n",
    "Xtrain,Xtest,ytrain,ytest=train_test_split(X_train,y_train,test_size=0.2,shuffle=True) #spliting data into the training set and testing set (20% of all data)\n",
    "encoded_train=to_categorical(ytrain) #encoding file as categorical (training)\n",
    "encoded_test=to_categorical(ytest) #encoding file as categorical (testing)\n",
    "\n",
    "    #Defining data shape for model input\n",
    "genes = Xtrain.shape[1]\n",
    "Xtrain.shape"
   ]
  },
  {
   "cell_type": "markdown",
   "id": "9974d797-8930-49b2-be4e-feead78456ed",
   "metadata": {},
   "source": [
    "Sequential Keras Model (Multilayer Perceptron)"
   ]
  },
  {
   "cell_type": "markdown",
   "id": "b96a087c-44c0-40a5-8a0c-d9b55804cb00",
   "metadata": {},
   "source": [
    "Building the model"
   ]
  },
  {
   "cell_type": "code",
   "execution_count": 64,
   "id": "e955a975-372c-456f-be8c-3ef27259793f",
   "metadata": {},
   "outputs": [
    {
     "name": "stdout",
     "output_type": "stream",
     "text": [
      "Epoch 1/8\n",
      "51/51 [==============================] - 3s 44ms/step - loss: 0.5560 - accuracy: 0.7674\n",
      "Epoch 2/8\n",
      "51/51 [==============================] - 2s 45ms/step - loss: 0.5171 - accuracy: 0.7803\n",
      "Epoch 3/8\n",
      "51/51 [==============================] - 2s 45ms/step - loss: 0.3746 - accuracy: 0.8280\n",
      "Epoch 4/8\n",
      "51/51 [==============================] - 2s 48ms/step - loss: 0.0523 - accuracy: 0.9995\n",
      "Epoch 5/8\n",
      "51/51 [==============================] - 2s 44ms/step - loss: 0.0120 - accuracy: 1.0000\n",
      "Epoch 6/8\n",
      "51/51 [==============================] - 2s 43ms/step - loss: 0.0073 - accuracy: 1.0000\n",
      "Epoch 7/8\n",
      "51/51 [==============================] - 2s 45ms/step - loss: 0.0053 - accuracy: 1.0000\n",
      "Epoch 8/8\n",
      "51/51 [==============================] - 2s 44ms/step - loss: 0.0041 - accuracy: 1.0000\n"
     ]
    },
    {
     "data": {
      "text/plain": [
       "<keras.callbacks.History at 0x19da32e2cd0>"
      ]
     },
     "execution_count": 64,
     "metadata": {},
     "output_type": "execute_result"
    }
   ],
   "source": [
    "##Model construction and training\n",
    "\n",
    "    #Defining shape of the first layer (tensor) which corresponds to the input\n",
    "n_input = genes #shape of the initial matrix (number of genes)\n",
    "n_dim=2 #number of dimensions of the dataset\n",
    "\n",
    "    #Building the model\n",
    "model = Sequential()\n",
    "model.add(Dense(1000,       activation='sigmoid', input_shape=(genes,))) #input size must be the genes measured and the first layer size the cells \n",
    "model.add(Dense(800,       activation='sigmoid'))\n",
    "model.add(Dense(50,       activation='sigmoid'))\n",
    "model.add(Dense(n_dim,    activation='softmax')) #last layer must  only have size of the number of dimensions of the dataset (2)\n",
    "model.compile(loss = 'sparse_categorical_crossentropy', optimizer = Adam(), metrics=[\"accuracy\"]) #compiling the model \n",
    "                                                                                                    #optimizer Adam adapts by itself the learning rate\n",
    "\n",
    "    #Training the model\n",
    "model.fit(Xtrain,ytrain, batch_size = 120, epochs = 8, verbose = 1) #batch_size= number of samples are included in one batch to be processed in one time (X)\n",
    "                                                                     #epochs= number of times the model repeats the training with all the data (incresing accuracy)\n",
    "                                                                     #verbose=  allowing to see output messsages from the model while running (0 = none, 1, 2 = all)"
   ]
  },
  {
   "cell_type": "markdown",
   "id": "bfdd6089-bda1-4590-8419-18974671fd05",
   "metadata": {},
   "source": [
    "Model Testing"
   ]
  },
  {
   "cell_type": "code",
   "execution_count": 65,
   "id": "36bee18c-0d9d-44f9-a962-52d304b4aae7",
   "metadata": {},
   "outputs": [
    {
     "name": "stdout",
     "output_type": "stream",
     "text": [
      "47/47 [==============================] - 1s 10ms/step\n",
      "              precision    recall  f1-score   support\n",
      "\n",
      "           0       1.00      1.00      1.00      1192\n",
      "           1       1.00      1.00      1.00       310\n",
      "\n",
      "    accuracy                           1.00      1502\n",
      "   macro avg       1.00      1.00      1.00      1502\n",
      "weighted avg       1.00      1.00      1.00      1502\n",
      "\n",
      "[[1192    0]\n",
      " [   1  309]]\n"
     ]
    },
    {
     "data": {
      "image/png": "[encoded data removed]",
      "text/plain": [
       "<Figure size 432x288 with 2 Axes>"
      ]
     },
     "metadata": {
      "needs_background": "light"
     },
     "output_type": "display_data"
    }
   ],
   "source": [
    "##Model testing with 20% of general dataset\n",
    "\n",
    "    #Testing the model with the test data\n",
    "predictions=model.predict(Xtest)\n",
    "\n",
    "    #Obtaining list of predictions for each sample (probabilities for each class)\n",
    "pred_label=[]\n",
    "for p in predictions:  #list of probabilities for being malignant (1) or non-mmalignant (0) based on the model\n",
    "    pred_label.append(np.argmax(p)) #rounding list of probabilities to the predicted class (1 or 0)\n",
    "\n",
    "    #Verifying how accurate was the model, comparing the prediction of the test data with the actual classification\n",
    "print(classification_report(ytest, pred_label)) \n",
    "print(confusion_matrix(ytest, pred_label)) #Matrix that compares the predicted labels with the true labels\n",
    "ConfusionMatrixDisplay.from_predictions(ytest, pred_label) #Turning the martix into a plot\n",
    "                                                                #X-axis true labels\n",
    "                                                                #Y-axis predicted labels\n",
    "plt.show()"
   ]
  },
  {
   "cell_type": "markdown",
   "id": "518650f6-3f79-4a77-86c3-10a4df8ba4e5",
   "metadata": {},
   "source": [
    "Model Validation (individual samples)"
   ]
  },
  {
   "cell_type": "markdown",
   "id": "3d846d0c-3794-4e5f-99ad-3207860f2f20",
   "metadata": {},
   "source": [
    "        -vanGalen"
   ]
  },
  {
   "cell_type": "code",
   "execution_count": 46,
   "id": "1267bbda-3e00-4ce5-841a-91e414024004",
   "metadata": {
    "tags": []
   },
   "outputs": [
    {
     "name": "stdout",
     "output_type": "stream",
     "text": [
      "15/15 [==============================] - 0s 9ms/step\n"
     ]
    },
    {
     "data": {
      "image/png": "[encoded data removed]",
      "text/plain": [
       "<Figure size 432x288 with 2 Axes>"
      ]
     },
     "metadata": {
      "needs_background": "light"
     },
     "output_type": "display_data"
    }
   ],
   "source": [
    "##vGa\n",
    "vGa = pd.read_csv(\"E:/AML_project/DATASETS/vanGalen/pacientes/genecounts/D0/GSM3587950_AML419A-D0.dem.txt.gz\",sep='\\t') #Read file\n",
    "anno_vGa = pd.read_csv(\"E:/AML_project/DATASETS/vanGalen/pacientes/annotations/D0/GSM3587951_AML419A-D0.anno.txt.gz\",sep='\\t') #Read annotations\n",
    "gene_num_vGa = [i for i, x in enumerate(vGa['Gene']) if x in gene_list] #selecting row numbers of the genes found in the intersection\n",
    "vGa = vGa.iloc[gene_num_vGa, :] #create dataframe with only the row numbers of the genes found in the intersection\n",
    "vGa.index = gene_list #change index to list of gene names\n",
    "lineg_like_cells = ['HSC-like', 'Prog-like', 'GMP-like', 'ProMono-like'] #define lineage-neg-like cells\n",
    "lineg_cells = ['HSC', 'Prog', 'GMP', 'ProMono'] #define non-lineage cells \n",
    "malignant_cells = ['malignant'] #define malignant\n",
    "nonmalignant_cells = ['normal'] #define non-malignant\n",
    "num_lineg_like = [i for i,x in enumerate(anno_vGa.CellType) if x in lineg_like_cells]  #selecting row numbers of lineage neg-like cells\n",
    "num_lineg = [i for i,x in enumerate(anno_vGa.CellType) if x in lineg_cells] #selecting row numbers of lineage-neg cells\n",
    "num_malignant = [i for i,x in enumerate(anno_vGa.PredictionRefined) if x in malignant_cells]  #selecting row numbers of the malignant cells in annotation file\n",
    "num_nonmalignant = [i for i,x in enumerate(anno_vGa.PredictionRefined) if x in nonmalignant_cells] #selecting row numbers of the non-malignant cells in annotation file\n",
    "num_mal_lineg = [x for x in num_malignant if x in num_lineg_like] #listing the row numbers that are lineage negative and malignant\n",
    "num_nonmal_lineg  = [x for x in num_nonmalignant if x in num_lineg] #listing the row numbers that are lineage negative and malignant\n",
    "barcodes_vGa = list(anno_vGa.Cell[num_nonmal_lineg]) + list(anno_vGa.Cell[num_mal_lineg]) #creating list with cell IDs of malignant and non-malignant cells to identify them in cell count file\n",
    "general_col = [i for i,x in enumerate(vGa.columns) if x in barcodes_vGa]  #selecting row numbers of the malignant and non-malignant cells in the cell count file\n",
    "vGa = vGa.iloc[:,general_col] #Cell counts\n",
    "anndata_vGa = sc.AnnData(X=vGa.T.to_numpy(), obs=barcodes_vGa, var=shared_genes)\n",
    "anndata_vGa.var_names = shared_genes #change gene # for names\n",
    "anndata_vGa.obs_names = barcodes_vGa #change cell # for cell IDs\n",
    "anndata_vGa.raw = anndata_vGa #*no sé porqué hacen esto\n",
    "sc.pp.normalize_total(anndata_vGa, target_sum=1e6)\n",
    "sc.pp.log1p(anndata_vGa)\n",
    "vGa_data = anndata_vGa.X\n",
    "predict_vGa = model.predict(vGa_data)\n",
    "label_vGa=[]\n",
    "for p in predict_vGa: #list of probabilities for being malignant (1) or non-mmalignant (0) based on the model\n",
    "    label_vGa.append(np.argmax(p)) #rounding list of probabilities to the predicted class (1 or 0)\n",
    "ConfusionMatrixDisplay.from_predictions(label_vGa,label_vGa)\n",
    "plt.show()\n",
    "# anno = anno_vGa.iloc[general_col,:]\n",
    "# print(Counter(anno.PredictionRefined))"
   ]
  },
  {
   "cell_type": "markdown",
   "id": "1f49f3b5-a68d-4954-9bf7-12994a3d4617",
   "metadata": {},
   "source": [
    "    -Rodríguez (healthy)"
   ]
  },
  {
   "cell_type": "code",
   "execution_count": 34,
   "id": "4388d35f-6e00-457a-86b2-c7aa3b4d6289",
   "metadata": {
    "tags": []
   },
   "outputs": [
    {
     "name": "stdout",
     "output_type": "stream",
     "text": [
      "15/15 [==============================] - 0s 9ms/step\n"
     ]
    },
    {
     "data": {
      "image/png": "[encoded data removed]",
      "text/plain": [
       "<Figure size 432x288 with 2 Axes>"
      ]
     },
     "metadata": {
      "needs_background": "light"
     },
     "output_type": "display_data"
    }
   ],
   "source": [
    "##Rodríguez (healthy only)\n",
    "\n",
    "Rod = pd.read_csv(\"E:/AML_project/DATASETS/Rodriguez/sanos/genecounts/healthy4.csv\", sep='\\t') #Read file\n",
    "\n",
    "Rod = Rod.rename({'Unnamed: 0': 'Gene'}, axis=1) #Rename gene column\n",
    "gene_num_rod = [i for i, x in enumerate(Rod['Gene']) if x in gene_list] #selecting row numbers of the genes found in the intersection\n",
    "df_inter = Rod.iloc[gene_num_rod] #create dataframe with only the row numbers of the genes found in the intersection\n",
    "Rod = df_inter.sort_values('Gene') #sort gene rows alphabetically to match vanGalen format\n",
    "Rod.index = gene_list #changing index to gene names (alphabetically ordered) to match vGa data frame indexes\n",
    "Rod= Rod.drop('Gene', axis=1) #remove gene column\n",
    "columns = Rod.columns.values #get list of cell IDs (column names)\n",
    "columns = columns[0:,] #extract cell IDs only (columns, without the first one = gene)\n",
    "anno_Rod = pd.DataFrame(columns) #create dataframe with cell IDs as rows\n",
    "anno_Rod = anno_Rod.rename({0: 'Cell'}, axis=1) #name the first column as Cell\n",
    "anno_Rod = pd.DataFrame(anno_Rod,columns=['Cell','PredictionRefined']) #add columns based on vanGalen annotations (celltype and class)\n",
    "anno_Rod['PredictionRefined'] = \"normal\" #define all cells as normal (data is from a healthy individual)\n",
    "anno_Rod['CellType'] = 'lin-' #define all cells as lin- (data is from lin- cells)\n",
    "Rod.index = gene_num_rod\n",
    "barcodes_Rod= Rod.columns.values.tolist()\n",
    "anndata_Rod = sc.AnnData(X=Rod.T.to_numpy(), obs=barcodes_Rod, var=shared_genes)\n",
    "anndata_Rod.var_names = shared_genes #change gene # for names\n",
    "anndata_Rod.obs_names = barcodes_Rod #change cell # for cell IDs\n",
    "anndata_Rod.raw = anndata_Rod #*no sé porqué hacen esto\n",
    "sc.pp.normalize_total(anndata_Rod, target_sum=1e6)\n",
    "sc.pp.log1p(anndata_Rod)\n",
    "Rod_data = anndata_Rod.X\n",
    "predict_Rod = model.predict(Rod_data)\n",
    "label_Rod=[]\n",
    "for p in predict_Rod: #list of probabilities for being malignant (1) or non-mmalignant (0) based on the model\n",
    "    label_Rod.append(np.argmax(p)) #rounding list of probabilities to the predicted class (1 or 0)\n",
    "ConfusionMatrixDisplay.from_predictions(label_Rod,label_Rod)\n",
    "plt.show()"
   ]
  },
  {
   "cell_type": "markdown",
   "id": "43a3d2c9-07ee-41ce-ba6a-3ac7d8877967",
   "metadata": {},
   "source": [
    "    -Ganan-Gómez"
   ]
  },
  {
   "cell_type": "code",
   "execution_count": 58,
   "id": "c5ae6443-c17e-44db-a48f-a52e6a5f1d30",
   "metadata": {
    "tags": []
   },
   "outputs": [
    {
     "name": "stdout",
     "output_type": "stream",
     "text": [
      "30/30 [==============================] - 0s 9ms/step\n"
     ]
    },
    {
     "data": {
      "image/png": "[encoded data removed]",
      "text/plain": [
       "<Figure size 432x288 with 2 Axes>"
      ]
     },
     "metadata": {
      "needs_background": "light"
     },
     "output_type": "display_data"
    }
   ],
   "source": [
    "##Ganan-Gómez\n",
    "\n",
    "GG = pd.read_csv(\"e:/AML_project/DATASETS/Ganan/pacientes/genecounts/GSM4079128_MDS.txt.gz\",sep='\\t') #Read file\n",
    "GG = GG.reset_index() #reset index\n",
    "GG.rename(columns={'index': 'Gene'}, inplace=True) #name column with genes (previous index) \n",
    "for i in range(0, GG.count()[0]): #Formating genes in GG data (eliminate gene ID number)\n",
    "    GG.at[i,'Gene'] = GG.at[i,'Gene'][16:]\n",
    "GG = GG.drop_duplicates(['Gene']) #Eliminating gene duplicates (only Ganan-Gómez data has them)\n",
    "gene_num_GG = [i for i, x in enumerate(GG['Gene']) if x in gene_list] #selecting row numbers of the genes found in the intersection\n",
    "df_inter = GG.iloc[gene_num_GG] #create dataframe with only the row numbers of the genes found in the intersection\n",
    "GG = df_inter.sort_values('Gene') #sort gene rows alphabetically to match vanGalen format\n",
    "GG.index = gene_list #changing index to gene names (alphabetically ordered) to match vGa data frame indexes\n",
    "GG= GG.drop('Gene', axis=1) #remove gene column\n",
    "columns = GG.columns.values #get list of cell IDs (column names)\n",
    "columns = columns[0:,] #extract cell IDs only (columns, without the first one = gene)\n",
    "anno_GG = pd.DataFrame(columns) #create dataframe with cell IDs as rows\n",
    "anno_GG  = anno_GG.rename({0: 'Cell'}, axis=1) #name the first column as Cell\n",
    "anno_GG  = pd.DataFrame(anno_GG ,columns=['Cell','PredictionRefined']) #add columns based on vanGalen annotations (celltype and class)\n",
    "anno_GG['PredictionRefined'] = \"malignant\" #define all cells as normal (data is from a healthy individual)\n",
    "anno_GG['CellType'] = 'lin-' #define all cells as lin- (data is from lin- cells)\n",
    "GG.index = gene_num_GG\n",
    "barcodes_GG = GG.columns.values.tolist()\n",
    "anndata_GG = sc.AnnData(X=GG.T.to_numpy(), obs=barcodes_GG, var=shared_genes)\n",
    "anndata_GG.var_names = shared_genes #change gene # for names\n",
    "anndata_GG.obs_names = barcodes_GG #change cell # for cell IDs\n",
    "anndata_GG.raw = anndata_GG #*no sé porqué hacen esto\n",
    "sc.pp.normalize_total(anndata_GG, target_sum=1e6)\n",
    "sc.pp.log1p(anndata_GG)\n",
    "GG_data = anndata_GG.X\n",
    "predict_GG = model.predict(GG_data)\n",
    "label_GG=[]\n",
    "for p in predict_GG: #list of probabilities for being malignant (1) or non-mmalignant (0) based on the model\n",
    "    label_GG.append(np.argmax(p)) #rounding list of probabilities to the predicted class (1 or 0)\n",
    "ConfusionMatrixDisplay.from_predictions(label_GG,label_GG)\n",
    "plt.show()"
   ]
  },
  {
   "cell_type": "markdown",
   "id": "bfda6889-960b-4596-9e56-18929ed92f56",
   "metadata": {},
   "source": [
    "    -Colla"
   ]
  },
  {
   "cell_type": "code",
   "execution_count": 59,
   "id": "6e3e9535-8530-4e6b-9758-282a6d273518",
   "metadata": {
    "tags": []
   },
   "outputs": [
    {
     "name": "stdout",
     "output_type": "stream",
     "text": [
      "41/41 [==============================] - 0s 9ms/step\n"
     ]
    },
    {
     "data": {
      "image/png": "[encoded data removed]",
      "text/plain": [
       "<Figure size 432x288 with 2 Axes>"
      ]
     },
     "metadata": {
      "needs_background": "light"
     },
     "output_type": "display_data"
    }
   ],
   "source": [
    "##Colla\n",
    "\n",
    "Co = pd.read_csv(\"e:/AML_project/DATASETS/Colla/sanos/genecounts/GSM5212891_HD4-937-Lin-Neg-CD34-Pos.csv.gz\") #Read file\n",
    "df_DC = pd.read_csv('E:/AML_project/DATASETS/Colla/genelist_DC.csv') #read file\n",
    "genes_DC = df_DC['Gene'].to_list() #generate list of the genes\n",
    "Co['Gene'] = genes_DC #change gene IDs to gene names (previously obtained)\n",
    "Co = Co.drop_duplicates(['Gene']) #Eliminating gene duplicates (only Ganan-Gómez data has them)\n",
    "del Co['Unnamed: 0'] #remove column with gene IDs\n",
    "gene_num_Co = [i for i, x in enumerate(Co['Gene']) if x in gene_list] #selecting row numbers of the genes found in the intersection\n",
    "df_inter = Co.iloc[gene_num_Co] #create dataframe with only the row numbers of the genes found in the intersection\n",
    "Co = df_inter.sort_values('Gene') #sort gene rows alphabetically to match vanGalen format\n",
    "Co.index = gene_list #changing index to gene names (alphabetically ordered) to match vGa data frame indexes\n",
    "Co = Co.drop('Gene', axis=1) #remove gene column\n",
    "columns = Co.columns.values #get list of cell IDs (column names)\n",
    "columns = columns[0:,] #extract cell IDs only (columns, without the first one = gene)\n",
    "anno_Co = pd.DataFrame(columns) #create dataframe with cell IDs as rows\n",
    "anno_Co = anno_Co.rename({0: 'Cell'}, axis=1) #name the first column as Cell\n",
    "anno_Co = pd.DataFrame(anno_Co,columns=['Cell','PredictionRefined']) #add columns based on vanGalen annotations (celltype and class)\n",
    "anno_Co['CellType'] = 'lin-' #define all cells as lin- (data is from lin- cells)\n",
    "anno_Co['PredictionRefined'] = \"normal\" #define all cells as normal (data is from a healthy individual)\n",
    "Co.index = gene_num_Co\n",
    "barcodes_Co = Co.columns.to_list()\n",
    "anndata_Co = sc.AnnData(X=Co.T.to_numpy(), obs=barcodes_Co, var=shared_genes)\n",
    "anndata_Co.var_names = shared_genes #change gene # for names\n",
    "anndata_Co.obs_names = barcodes_Co #change cell # for cell IDs\n",
    "anndata_Co.raw = anndata_Co #*no sé porqué hacen esto\n",
    "sc.pp.normalize_total(anndata_Co, target_sum=1e6)\n",
    "sc.pp.log1p(anndata_Co)\n",
    "Co_data = anndata_Co.X\n",
    "predict_Co = model.predict(Co_data)\n",
    "label_Co=[]\n",
    "for p in predict_Co: #list of probabilities for being malignant (1) or non-mmalignant (0) based on the model\n",
    "    label_Co.append(np.argmax(p)) #rounding list of probabilities to the predicted class (1 or 0)\n",
    "ConfusionMatrixDisplay.from_predictions(label_Co,label_Co)\n",
    "plt.show()"
   ]
  },
  {
   "cell_type": "markdown",
   "id": "8606a99f-848e-4ba2-bec9-1c8b7f790c93",
   "metadata": {},
   "source": [
    "Saving model outputs"
   ]
  },
  {
   "cell_type": "code",
   "execution_count": 60,
   "id": "37a3f874-d191-4737-ba71-b2929e2c46d2",
   "metadata": {
    "tags": []
   },
   "outputs": [],
   "source": [
    "##Array of data used for training and testing\n",
    "\n",
    "np.save(dir_out_data + \"Xtrain_\" + comb + \".npy\", Xtrain)\n",
    "np.save(dir_out_data + \"ytrain_\" + comb + \".npy\", ytrain)\n",
    "np.save(dir_out_data + \"Xtest_\" + comb + \".npy\", Xtest)\n",
    "np.save(dir_out_data + \"ytest_\" + comb + \".npy\", ytest)"
   ]
  },
  {
   "cell_type": "code",
   "execution_count": 14,
   "id": "533d685d-9ff4-4115-8b4c-4c397e22fff9",
   "metadata": {},
   "outputs": [
    {
     "name": "stdout",
     "output_type": "stream",
     "text": [
      "Finished!\n"
     ]
    },
    {
     "data": {
      "application/javascript": [
       "$(document).ready(\n",
       "    function() {\n",
       "        function appendUniqueDiv(){\n",
       "            // append a div with our uuid so we can check that it's already\n",
       "            // been sent and avoid duplicates on page reload\n",
       "            var notifiedDiv = document.createElement(\"div\")\n",
       "            notifiedDiv.id = \"f3a80fdd-c497-4135-ae62-73519173c53f\"\n",
       "            element.append(notifiedDiv)\n",
       "        }\n",
       "\n",
       "        // only send notifications if the pageload is complete; this will\n",
       "        // help stop extra notifications when a saved notebook is loaded,\n",
       "        // which during testing gives us state \"interactive\", not \"complete\"\n",
       "        if (document.readyState === 'complete') {\n",
       "            // check for the div that signifies that the notification\n",
       "            // was already sent\n",
       "            if (document.getElementById(\"f3a80fdd-c497-4135-ae62-73519173c53f\") === null) {\n",
       "                var notificationPayload = {\"requireInteraction\": false, \"icon\": \"/static/base/images/favicon.ico\", \"body\": \"Cell execution has finished!\", \"only_in_background\": false};\n",
       "\n",
       "                // We have a notification but the window is active\n",
       "                if (notificationPayload.only_in_background && !window.jupyterNotifyIsInBackground) {\n",
       "                    appendUniqueDiv();\n",
       "                    return;\n",
       "                }\n",
       "                if (Notification.permission !== 'denied') {\n",
       "                    if (Notification.permission !== 'granted') { \n",
       "                        Notification.requestPermission(function (permission) {\n",
       "                            if(!('permission' in Notification)) {\n",
       "                                Notification.permission = permission\n",
       "                            }\n",
       "                        })\n",
       "                    }\n",
       "                    if (Notification.permission === 'granted') {\n",
       "                    var notification = new Notification(\"Jupyter Notebook\", notificationPayload)\n",
       "                    appendUniqueDiv()\n",
       "                    notification.onclick = function () {\n",
       "                        window.focus();\n",
       "                        this.close();\n",
       "                        };\n",
       "                    } \n",
       "                }     \n",
       "            }\n",
       "        }\n",
       "    }\n",
       ")\n"
      ],
      "text/plain": [
       "<IPython.core.display.Javascript object>"
      ]
     },
     "metadata": {},
     "output_type": "display_data"
    }
   ],
   "source": [
    "%%notify\n",
    "print(\"Finished!\")"
   ]
  },
  {
   "cell_type": "code",
   "execution_count": null,
   "id": "9da9f5f8-f94d-4f34-8258-415322b6054f",
   "metadata": {},
   "outputs": [],
   "source": []
  }
 ],
 "metadata": {
  "kernelspec": {
   "display_name": "Python 3 (ipykernel)",
   "language": "python",
   "name": "python3"
  },
  "language_info": {
   "codemirror_mode": {
    "name": "ipython",
    "version": 3
   },
   "file_extension": ".py",
   "mimetype": "text/x-python",
   "name": "python",
   "nbconvert_exporter": "python",
   "pygments_lexer": "ipython3",
   "version": "3.9.12"
  }
 },
 "nbformat": 4,
 "nbformat_minor": 5
}
