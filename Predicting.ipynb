{
 "cells": [
  {
   "cell_type": "markdown",
   "id": "76c10cd8-5c98-4b49-a733-9a1fd331659c",
   "metadata": {},
   "source": [
    "AML cell classificaion in FA samples"
   ]
  },
  {
   "cell_type": "code",
   "execution_count": 116,
   "id": "bee44541-b45e-4939-a416-b0199adb6a53",
   "metadata": {},
   "outputs": [
    {
     "data": {
      "application/javascript": [
       "if (!(\"Notification\" in window)) {\n",
       "    alert(\"This browser does not support desktop notifications, so the %%notify magic will not work.\");\n",
       "} else if (Notification.permission !== 'granted' && Notification.permission !== 'denied') {\n",
       "    Notification.requestPermission(function (permission) {\n",
       "        if(!('permission' in Notification)) {\n",
       "            Notification.permission = permission;\n",
       "        }\n",
       "    })\n",
       "}\n",
       "\n",
       "if(!window.jQuery) {\n",
       "    var jq = document.createElement('script');\n",
       "    jq.src = \"//ajax.googleapis.com/ajax/libs/jquery/2.1.4/jquery.min.js\";\n",
       "    document.getElementsByTagName('head')[0].appendChild(jq);\n",
       "}\n",
       "\n",
       "// Detect if the window is out of focus.\n",
       "window.jupyterNotifyIsInBackground = undefined;\n",
       "(function() {\n",
       "    // Check document.hidden support\n",
       "    var hidden;\n",
       "    if (typeof document.hidden !== \"undefined\") { // Opera 12.10 and Firefox 18 and later support\n",
       "      hidden = \"hidden\";\n",
       "    } else if (typeof document.msHidden !== \"undefined\") {\n",
       "      hidden = \"msHidden\";\n",
       "    } else if (typeof document.webkitHidden !== \"undefined\") {\n",
       "      hidden = \"webkitHidden\";\n",
       "    }\n",
       "\n",
       "    // Set initial background state\n",
       "    if (document[hidden]) {\n",
       "      window.jupyterNotifyIsInBackground = true;\n",
       "    } else {\n",
       "      window.jupyterNotifyIsInBackground = false;\n",
       "    }\n",
       "\n",
       "    window.addEventListener('blur', function() { window.jupyterNotifyIsInBackground = true; }, false);\n",
       "    window.addEventListener('focus', function() { window.jupyterNotifyIsInBackground = false; }, false);\n",
       "})();\n"
      ],
      "text/plain": [
       "<IPython.core.display.Javascript object>"
      ]
     },
     "metadata": {},
     "output_type": "display_data"
    }
   ],
   "source": [
    "##Libraries\n",
    "\n",
    "import numpy as np\n",
    "import pandas as pd\n",
    "from keras.layers import Dense\n",
    "import matplotlib.pyplot as plt\n",
    "#from sklearn.manifold import TSNE\n",
    "from keras.optimizers import Adam\n",
    "from sklearn.decomposition import PCA\n",
    "from keras.models import Sequential, Model\n",
    "#from umap import UMAP\n",
    "from sklearn.model_selection import train_test_split\n",
    "from keras.utils import to_categorical\n",
    "from sklearn.metrics import classification_report,confusion_matrix\n",
    "import pandas as pd\n",
    "from collections import Counter\n",
    "import numpy as np\n",
    "import ast\n",
    "import scanpy as sc\n",
    "from matplotlib import pyplot\n",
    "from sklearn.model_selection import train_test_split, cross_validate\n",
    "from sklearn.svm import SVC\n",
    "from sklearn.metrics import *\n",
    "import matplotlib.pyplot as plt\n",
    "from sklearn.metrics import confusion_matrix\n",
    "from sklearn.metrics import ConfusionMatrixDisplay\n",
    "import tensorflow as tf\n",
    "from tensorflow import keras\n",
    "from tensorflow.keras import layers\n",
    "import os\n",
    "%reload_ext jupyternotify"
   ]
  },
  {
   "cell_type": "code",
   "execution_count": 164,
   "id": "cff3c794-3852-44d9-8511-508edf04621c",
   "metadata": {},
   "outputs": [],
   "source": [
    "##Directories\n",
    "    \n",
    "    #Rodríguez\n",
    "dir_Rod_FA = \"E:/AML_project/DATASETS/Rodriguez/pacientes/genecounts/\"\n",
    "\n",
    "    #Colla\n",
    "dir_Co_DC = \"E:/AML_project/DATASETS/Colla/pacientes/genecounts/\"\n",
    "\n",
    "    #Training dataset\n",
    "dir_train = \"E:/AML_project/DATASETS/training/\"\n",
    "\n",
    "    #Intersecting genes\n",
    "dir_genes = \"E:/AML_project/METADATA/\"\n",
    "\n",
    "    #Predictions\n",
    "dir_predictions = \"E:/AML_project/DATASETS/predictions/separate/\"\n",
    "\n",
    "#Combination of datasets\n",
    "\n",
    "# comb = \"RvG\"\n",
    "# comb = \"RGG\"\n",
    "# comb = \"CovG\"\n",
    "comb = \"CoGG\""
   ]
  },
  {
   "cell_type": "markdown",
   "id": "e4a91137-a2b9-47f2-a3a6-77c51c881c31",
   "metadata": {},
   "source": [
    "Model construction and training (pre-saved training dataser)"
   ]
  },
  {
   "cell_type": "code",
   "execution_count": 165,
   "id": "a54ec770-3252-4b4e-be98-1898e464ef39",
   "metadata": {},
   "outputs": [],
   "source": [
    "##Loading training dataset (Building.ipynb)\n",
    "\n",
    "Xtrain = np.load(dir_train + \"Xtrain_\" + comb + \".npy\")\n",
    "ytrain = np.load(dir_train + \"ytrain_\" + comb + \".npy\")\n",
    "Xtest = np.load(dir_train + \"Xtest_\" + comb + \".npy\")\n",
    "ytest = np.load(dir_train + \"ytest_\" + comb + \".npy\")"
   ]
  },
  {
   "cell_type": "code",
   "execution_count": 166,
   "id": "55961f61-9433-4eb2-9b25-85907cfd6c30",
   "metadata": {
    "tags": []
   },
   "outputs": [
    {
     "name": "stdout",
     "output_type": "stream",
     "text": [
      "Epoch 1/8\n",
      "73/73 [==============================] - 3s 43ms/step - loss: 0.4009 - accuracy: 0.8412\n",
      "Epoch 2/8\n",
      "73/73 [==============================] - 3s 43ms/step - loss: 0.0477 - accuracy: 0.9990\n",
      "Epoch 3/8\n",
      "73/73 [==============================] - 3s 44ms/step - loss: 0.0071 - accuracy: 0.9998\n",
      "Epoch 4/8\n",
      "73/73 [==============================] - 3s 43ms/step - loss: 0.0042 - accuracy: 0.9999\n",
      "Epoch 5/8\n",
      "73/73 [==============================] - 3s 43ms/step - loss: 0.0027 - accuracy: 0.9999\n",
      "Epoch 6/8\n",
      "73/73 [==============================] - 3s 41ms/step - loss: 0.0022 - accuracy: 0.9999\n",
      "Epoch 7/8\n",
      "73/73 [==============================] - 3s 42ms/step - loss: 0.0019 - accuracy: 0.9999\n",
      "Epoch 8/8\n",
      "73/73 [==============================] - 3s 41ms/step - loss: 0.0017 - accuracy: 0.9999\n"
     ]
    },
    {
     "data": {
      "text/plain": [
       "<keras.callbacks.History at 0x2a304ee6250>"
      ]
     },
     "execution_count": 166,
     "metadata": {},
     "output_type": "execute_result"
    }
   ],
   "source": [
    "##Model construction and training (with pre-saved dataset)\n",
    "\n",
    "    #Defining data shape for model input\n",
    "genes = Xtrain.shape[1]\n",
    "Xtrain.shape\n",
    "\n",
    "    #Defining shape of the first layer (tensor) which corresponds to the input\n",
    "n_input = genes #shape of the initial matrix (number of genes)\n",
    "n_dim=2 #number of dimensions of the dataset\n",
    "\n",
    "    #Building the model\n",
    "model = Sequential()\n",
    "model.add(Dense(1000,       activation='sigmoid', input_shape=(genes,))) #input size must be the genes measured and the first layer size the cells \n",
    "model.add(Dense(800,       activation='sigmoid'))\n",
    "model.add(Dense(50,       activation='sigmoid'))\n",
    "model.add(Dense(n_dim,    activation='softmax')) #last layer must only have size of the number of dimensions of the dataset (2)\n",
    "model.compile(loss = 'sparse_categorical_crossentropy', optimizer = Adam(), metrics=[\"accuracy\"]) #compiling the model \n",
    "                                                                                                    #optimizer Adam adapts by itself the learning rate\n",
    "\n",
    "    #Training the model\n",
    "model.fit(Xtrain,ytrain, batch_size = 120, epochs = 8, verbose = 1) #batch_size= number of samples are included in one batch to be processed in one time (X)\n",
    "                                                                     #epochs= number of times the model repeats the training with all the data (incresing accuracy)\n",
    "                                                                     #verbose=  allowing to see output messsages from the model while running (0 = none, 1, 2 = all)"
   ]
  },
  {
   "cell_type": "code",
   "execution_count": 167,
   "id": "65d42e05-1d0b-4bd3-bbbc-e3255a395a2b",
   "metadata": {
    "tags": []
   },
   "outputs": [
    {
     "name": "stdout",
     "output_type": "stream",
     "text": [
      "68/68 [==============================] - 1s 8ms/step\n",
      "              precision    recall  f1-score   support\n",
      "\n",
      "           0       1.00      1.00      1.00      1844\n",
      "           1       0.99      1.00      1.00       324\n",
      "\n",
      "    accuracy                           1.00      2168\n",
      "   macro avg       1.00      1.00      1.00      2168\n",
      "weighted avg       1.00      1.00      1.00      2168\n",
      "\n",
      "[[1842    2]\n",
      " [   0  324]]\n"
     ]
    },
    {
     "data": {
      "image/png": "[encoded data removed]",
      "text/plain": [
       "<Figure size 432x288 with 2 Axes>"
      ]
     },
     "metadata": {
      "needs_background": "light"
     },
     "output_type": "display_data"
    }
   ],
   "source": [
    "##Model re-testing and re-evaluation with test data (optional)\n",
    "\n",
    "    #Testing the model with the test data\n",
    "predictions=model.predict(Xtest)\n",
    "\n",
    "    #Obtaining list of predictions for each sample (probabilities for each class)\n",
    "pred_label=[]\n",
    "for p in predictions:  #list of probabilities for being malignant (1) or non-mmalignant (0) based on the model\n",
    "    pred_label.append(np.argmax(p)) #ronding list of probabilities to the predicted class (1 or 0)\n",
    "\n",
    "    #Verifying how accurate was the model, comparing the prediction of the test data with the actual classification\n",
    "print(classification_report(ytest, pred_label)) \n",
    "print(confusion_matrix(ytest, pred_label)) #Matrix that compares the predicted labels with the true labels\n",
    "ConfusionMatrixDisplay.from_predictions(ytest, pred_label) #Turning the martix into a plot\n",
    "                                                                #X-axis true labels\n",
    "                                                                #Y-axis predicted labels\n",
    "plt.show()"
   ]
  },
  {
   "cell_type": "markdown",
   "id": "5b90d682-c989-4e1f-8123-fd2b3a47c410",
   "metadata": {
    "tags": []
   },
   "source": [
    "Model Prediction (FA dataset)"
   ]
  },
  {
   "cell_type": "markdown",
   "id": "3571eba5-3ade-4602-a3dd-69c00857a49f",
   "metadata": {},
   "source": [
    "    Parsing Data"
   ]
  },
  {
   "cell_type": "markdown",
   "id": "304cd4c8-45f8-4093-b7c3-d92809805496",
   "metadata": {},
   "source": [
    "        -Rodríguez"
   ]
  },
  {
   "cell_type": "code",
   "execution_count": 154,
   "id": "f5bab522-b02b-45be-9149-84af8fe43eb7",
   "metadata": {
    "tags": []
   },
   "outputs": [],
   "source": [
    "##Rodríguez \n",
    "\n",
    "    #Patients\n",
    "file_dir_FA = []\n",
    "file_names_FA = []\n",
    "sample_names_FA = []\n",
    "\n",
    "for i in os.listdir(dir_Rod_FA):\n",
    "    path = os.path.join(dir_Rod_FA,i)\n",
    "    name = i.replace(\".csv\",\"\")\n",
    "    file_dir_FA.append(path)\n",
    "    file_names_FA.append(i)\n",
    "    sample_names_FA.append(name)"
   ]
  },
  {
   "cell_type": "markdown",
   "id": "ada0613d-021f-4a0e-bb5c-5242460e069c",
   "metadata": {
    "tags": []
   },
   "source": [
    "        -Colla"
   ]
  },
  {
   "cell_type": "code",
   "execution_count": 168,
   "id": "a853a490-13ea-4667-a90e-267379792e50",
   "metadata": {
    "tags": []
   },
   "outputs": [],
   "source": [
    "##Colla\n",
    "\n",
    "    #Patients\n",
    "file_dir_Co = []\n",
    "file_names_Co = []\n",
    "sample_names_Co = []\n",
    "\n",
    "for i in os.listdir(dir_Co_DC):\n",
    "    path = os.path.join(dir_Co_DC,i)\n",
    "    name = i.replace(\".csv.gz\",\"\")\n",
    "    name = name[11:]\n",
    "    file_dir_Co.append(path)\n",
    "    file_names_Co.append(i)\n",
    "    sample_names_Co.append(name)"
   ]
  },
  {
   "cell_type": "markdown",
   "id": "07a53e08-e89f-4916-bb67-b58b91e2df6e",
   "metadata": {},
   "source": [
    "    Loading data"
   ]
  },
  {
   "cell_type": "code",
   "execution_count": 169,
   "id": "c830b1a8-ef23-4040-8ff8-57403604c744",
   "metadata": {},
   "outputs": [],
   "source": [
    "##Gene metadata\n",
    "gene_list = open(dir_genes + \"gene_list_\"+ comb + \".txt\", 'r')\n",
    "gene_list = gene_list.read()\n",
    "gene_list = ast.literal_eval(gene_list)\n",
    "shared_genes = np.array(gene_list)"
   ]
  },
  {
   "cell_type": "markdown",
   "id": "6c6f297c-08ca-4723-89aa-dcab226ecb6c",
   "metadata": {},
   "source": [
    "        Rodríguez"
   ]
  },
  {
   "cell_type": "code",
   "execution_count": 70,
   "id": "011e776f-269f-4386-bd57-cae86324f860",
   "metadata": {
    "tags": []
   },
   "outputs": [],
   "source": [
    "##Rodríguez\n",
    "for n in range(0, len(file_dir_FA)):\n",
    "    sample_names_FA[n] = pd.read_csv(file_dir_FA[n], sep='\\t') #Read file\n",
    "    sample_names_FA[n] = sample_names_FA[n].add_suffix(\"_FA\")\n",
    "    sample_names_FA[n] = sample_names_FA[n].rename({'Gene_FA': 'Gene'}, axis=1) #Rename gene column"
   ]
  },
  {
   "cell_type": "markdown",
   "id": "39c4fd36-b5d2-49a6-8b96-c0650ccf88f9",
   "metadata": {},
   "source": [
    "        Colla"
   ]
  },
  {
   "cell_type": "code",
   "execution_count": 170,
   "id": "38b68f05-8c62-4de6-a99b-695a90f4e935",
   "metadata": {
    "tags": []
   },
   "outputs": [],
   "source": [
    "##Colla\n",
    "patients = [\"1\",\"2\",\"3\",\"4\"]\n",
    "for n in range(0, len(file_dir_Co)):\n",
    "    sample_names_Co[n] = pd.read_csv(file_dir_Co[n]) #Read file\n",
    "    df_DC = pd.read_csv('E:/AML_project/DATASETS/Colla/genelist_DC.csv') #read file\n",
    "    genes_DC = df_DC['Gene'].to_list() #generate list of the genes\n",
    "    sample_names_Co[n]['Gene'] = genes_DC #change gene IDs to gene names (previously obtained)\n",
    "    sample_names_Co[n] = sample_names_Co[n].drop_duplicates(['Gene']) #Eliminating gene duplicates (only Ganan-Gómez data has them)\n",
    "    sample_names_Co[n] = sample_names_Co[n].add_suffix(\"_Patient_\" + patients[n] + \"_DC\")\n",
    "    sample_names_Co[n] = sample_names_Co[n].rename({'Gene_Patient_' + patients[n] + '_DC': 'Gene'}, axis=1) #Rename gene column\n",
    "    del sample_names_Co[n]['Unnamed: 0_Patient_' + patients[n] + '_DC'] #remove column with gene IDs "
   ]
  },
  {
   "cell_type": "markdown",
   "id": "8a3d7860-d956-4a49-bfac-b3cc85b2e9e5",
   "metadata": {},
   "source": [
    "    Sampling and annotating data"
   ]
  },
  {
   "cell_type": "code",
   "execution_count": 171,
   "id": "58dbbf39-590a-4b9a-a97e-b65af9777335",
   "metadata": {},
   "outputs": [],
   "source": [
    "    #Generate empty dataframe as template to merge others\n",
    "data = []\n",
    "all_samples = pd.DataFrame(data,index = gene_list)"
   ]
  },
  {
   "cell_type": "markdown",
   "id": "cf83451e-a9fb-4394-ad9b-73f9761e0a3b",
   "metadata": {},
   "source": [
    "        -Rodríguez"
   ]
  },
  {
   "cell_type": "code",
   "execution_count": 72,
   "id": "247b4bb7-a9ea-460f-8348-5a67aa54bc3d",
   "metadata": {
    "tags": []
   },
   "outputs": [],
   "source": [
    "##Rodríguez\n",
    "\n",
    "    #Sampling intersecting genes\n",
    "    \n",
    "for n in range(0, len(file_dir_FA)):\n",
    "#Select only genes found in the intersection and create gene(row) and cell(column) dataframe\n",
    "    gene_num_FA = [i for i, x in enumerate(sample_names_FA[n]['Gene']) if x in gene_list] #selecting row numbers of the genes found in the intersection\n",
    "    df_inter = sample_names_FA[n].iloc[gene_num_FA] #create dataframe with only the row numbers of the genes found in the intersection\n",
    "    sample_names_FA[n] = df_inter.sort_values('Gene') #sort gene rows alphabetically to match vanGalen format\n",
    "    sample_names_FA[n].index = gene_list #changing index to gene names (alphabetically ordered) to match vGa data frame indexes\n",
    "    sample_names_FA[n]= sample_names_FA[n].drop('Gene', axis=1) #remove gene column\n",
    "    \n",
    "    #Merging all files\n",
    "    \n",
    "    all_samples = pd.concat((all_samples, sample_names_FA[n]), axis = 1) #append all dataframes into the van Galen merge\n",
    "\n",
    "    #Show summary of the amount of cells per celltype and class\n",
    "    # print(\"The sample has:\")\n",
    "    # print(Counter(annohealthy1.PredictionRefined)) #print number of cells in class\n",
    "    # print(Counter(annohealthy1.CellType)) #print number of cells in each celltype\n",
    "    \n",
    "#Generate list with cell IDs\n",
    "# all_samples.index = gene_num_FA\n",
    "barcodes_general = all_samples.columns.values.tolist()"
   ]
  },
  {
   "cell_type": "markdown",
   "id": "fde88396-2f12-4226-a22a-908f176191a0",
   "metadata": {},
   "source": [
    "        -Colla"
   ]
  },
  {
   "cell_type": "code",
   "execution_count": 172,
   "id": "e1518f7a-0f1c-4028-9edf-3468309b710f",
   "metadata": {
    "tags": []
   },
   "outputs": [],
   "source": [
    "##Colla\n",
    "\n",
    "#Sampling intersecting genes\n",
    "\n",
    "for n in range(0, len(file_dir_Co)):\n",
    "#Select only genes found in the intersection and create gene(row) and cell(column) dataframe\n",
    "    gene_num_Co = [i for i, x in enumerate(sample_names_Co[n]['Gene']) if x in gene_list] #selecting row numbers of the genes found in the intersection\n",
    "    df_inter = sample_names_Co[n].iloc[gene_num_Co] #create dataframe with only the row numbers of the genes found in the intersection\n",
    "    sample_names_Co[n] = df_inter.sort_values('Gene') #sort gene rows alphabetically to match vanGalen format\n",
    "    sample_names_Co[n].index = gene_list #changing index to gene names (alphabetically ordered) to match vGa data frame indexes\n",
    "    sample_names_Co[n]= sample_names_Co[n].drop('Gene', axis=1) #remove gene column\n",
    "    \n",
    "#Merging all files\n",
    "    all_samples = pd.merge(all_samples, sample_names_Co[n], left_index=True, right_index=True, suffixes=('', '_drop')) #append all dataframes into the van Galen merge\n",
    "all_samples.drop([col for col in all_samples.columns if 'drop' in col], axis=1, inplace=True) #there is a duplication of columns\n",
    "\n",
    "#Generate list with cell IDs\n",
    "all_samples.index = gene_num_Co\n",
    "barcodes_general = all_samples.columns.values.tolist()"
   ]
  },
  {
   "cell_type": "code",
   "execution_count": 173,
   "id": "714680a9-848c-46d4-bd3a-539649407090",
   "metadata": {},
   "outputs": [],
   "source": [
    "##Creating Anndata obejct \n",
    "\n",
    "anndata = sc.AnnData(X=all_samples.T.to_numpy(), obs=barcodes_general, var=shared_genes) #transform data to Anndata format with\n",
    "                                                                                                    #barcodes (cell IDs) as obs and gene names as variables\n",
    "anndata.var_names = shared_genes #change gene # for names\n",
    "anndata.obs_names = barcodes_general #change cell # for cell IDs\n",
    "anndata.raw = anndata #*no sé porqué hacen esto\n",
    "# sc.pl.highest_expr_genes(anndata_all, n_top=20, ) #calculate the 20 genes with highest expression"
   ]
  },
  {
   "cell_type": "code",
   "execution_count": 174,
   "id": "25999361-5a13-4a7d-9c63-4de5234fb2b9",
   "metadata": {},
   "outputs": [],
   "source": [
    "## General data processing to facilitate model efficiency\n",
    "\n",
    "    #Filtering\n",
    "# sc.pp.filter_genes(anndata, min_cells=80) #filter genes who have very few cells (min = 20), can also be done with cells with few counts\n",
    "\n",
    "    #Normalization (CPM)\n",
    "sc.pp.normalize_total(anndata, target_sum=1e6) #normalize each cell by total counts over all genes, so that every cell \n",
    "                                                   #has the same total count after normalization (target_sum = 1e6 equals CPM normalization) \n",
    "    #Transformation (log1p)\n",
    "sc.pp.log1p(anndata) #transformation of the data with a log1p function\n",
    "\n",
    "    #Visualization\n",
    "#box and whiskers\n",
    "# sc.pl.highest_expr_genes(anndata_all, n_top=50) #visualize the 50 highest expressing genes\n",
    "#PCA"
   ]
  },
  {
   "cell_type": "code",
   "execution_count": 175,
   "id": "0bccc4cd-0892-4f33-a5bf-07cb8d36350e",
   "metadata": {},
   "outputs": [
    {
     "name": "stdout",
     "output_type": "stream",
     "text": [
      "225/225 [==============================] - 2s 9ms/step\n"
     ]
    },
    {
     "data": {
      "image/png": "[encoded data removed]",
      "text/plain": [
       "<Figure size 432x288 with 2 Axes>"
      ]
     },
     "metadata": {
      "needs_background": "light"
     },
     "output_type": "display_data"
    }
   ],
   "source": [
    "##Prediction\n",
    "\n",
    "values = anndata.X\n",
    "predict = model.predict(values)\n",
    "label=[]\n",
    "\n",
    " #Obtaining list of predictions for each sample (probabilities for each class)\n",
    "for p in predict: #list of probabilities for being malignant (1) or non-malignant (0) based on the model\n",
    "    label.append(np.argmax(p)) #rounding list of probabilities to the predicted class (1 or 0)\n",
    "\n",
    "        #Plot predictions\n",
    "ConfusionMatrixDisplay.from_predictions(label,label)\n",
    "plt.show()"
   ]
  },
  {
   "cell_type": "code",
   "execution_count": 46,
   "id": "4a5d85e4-0935-4254-b5e5-2892cd989c6c",
   "metadata": {},
   "outputs": [
    {
     "name": "stdout",
     "output_type": "stream",
     "text": [
      "Finished!\n"
     ]
    },
    {
     "data": {
      "application/javascript": [
       "$(document).ready(\n",
       "    function() {\n",
       "        function appendUniqueDiv(){\n",
       "            // append a div with our uuid so we can check that it's already\n",
       "            // been sent and avoid duplicates on page reload\n",
       "            var notifiedDiv = document.createElement(\"div\")\n",
       "            notifiedDiv.id = \"cd0ecb06-9c6d-40d1-8cb6-737e207b6a89\"\n",
       "            element.append(notifiedDiv)\n",
       "        }\n",
       "\n",
       "        // only send notifications if the pageload is complete; this will\n",
       "        // help stop extra notifications when a saved notebook is loaded,\n",
       "        // which during testing gives us state \"interactive\", not \"complete\"\n",
       "        if (document.readyState === 'complete') {\n",
       "            // check for the div that signifies that the notification\n",
       "            // was already sent\n",
       "            if (document.getElementById(\"cd0ecb06-9c6d-40d1-8cb6-737e207b6a89\") === null) {\n",
       "                var notificationPayload = {\"requireInteraction\": false, \"icon\": \"/static/base/images/favicon.ico\", \"body\": \"Cell execution has finished!\", \"only_in_background\": false};\n",
       "\n",
       "                // We have a notification but the window is active\n",
       "                if (notificationPayload.only_in_background && !window.jupyterNotifyIsInBackground) {\n",
       "                    appendUniqueDiv();\n",
       "                    return;\n",
       "                }\n",
       "                if (Notification.permission !== 'denied') {\n",
       "                    if (Notification.permission !== 'granted') { \n",
       "                        Notification.requestPermission(function (permission) {\n",
       "                            if(!('permission' in Notification)) {\n",
       "                                Notification.permission = permission\n",
       "                            }\n",
       "                        })\n",
       "                    }\n",
       "                    if (Notification.permission === 'granted') {\n",
       "                    var notification = new Notification(\"Jupyter Notebook\", notificationPayload)\n",
       "                    appendUniqueDiv()\n",
       "                    notification.onclick = function () {\n",
       "                        window.focus();\n",
       "                        this.close();\n",
       "                        };\n",
       "                    } \n",
       "                }     \n",
       "            }\n",
       "        }\n",
       "    }\n",
       ")\n"
      ],
      "text/plain": [
       "<IPython.core.display.Javascript object>"
      ]
     },
     "metadata": {},
     "output_type": "display_data"
    }
   ],
   "source": [
    "%%notify\n",
    "print(\"Finished!\")"
   ]
  },
  {
   "cell_type": "code",
   "execution_count": 176,
   "id": "ba782a48-2c1b-4c61-a884-47b209a10a24",
   "metadata": {},
   "outputs": [
    {
     "name": "stdout",
     "output_type": "stream",
     "text": [
      "Counter({'non_malignant': 7178})\n"
     ]
    }
   ],
   "source": [
    "##Save model predictions (tags)\n",
    "disease = \"MDS\"\n",
    "\n",
    "all_samples.index = gene_list #reset dataframe index to genes (not gene #)\n",
    "out_data = all_samples.transpose() #flip the data to have the genes as columns)\n",
    "predictions = pd.DataFrame(predict) #turn the array of predictions into a dataframe\n",
    "predictions = predictions.rename({0: 'non_malignant', 1: 'malignant'}, axis=1) #name the columns for each prediction tag (prediction scores)\n",
    "labels = pd.DataFrame(label) #turn the list of tags (0 or 1) into a dataframe\n",
    "labels = labels.rename({0: 'predic_label'}, axis=1) #name the column with the tags \"predic_label\"\n",
    "labels = labels.replace({1: disease, 0: 'non_malignant'}, regex=False) #change the 0s and 1s for actual tags (malignant and non_malignant)\n",
    "print(Counter(labels.predic_label)) #print the counts for each predicted cell\n",
    "cells = list(out_data.index) #turn the cell IDs into a list\n",
    "labels.index = cells #in the dataframe with the prediction tags set the index to the cell IDs\n",
    "final_file = pd.concat((out_data, labels), axis = 1) #concatenate the cell count file with the prediction column\n",
    "final_file.to_csv(dir_predictions + \"predictions_\" + comb + \"_\" + disease + \".csv\")"
   ]
  },
  {
   "cell_type": "code",
   "execution_count": null,
   "id": "c59b6698-943b-473b-827a-17a168fcef8e",
   "metadata": {},
   "outputs": [],
   "source": [
    "AML_FA = pd.read_csv(\"E:/AML_project/DATASETS/predictions/separate/Nuevos_vGa_list/predictions_RvG_AML.csv\")\n",
    "AML_DC = pd.read_csv(\"E:/AML_project/DATASETS/predictions/separate/Nuevos_vGa_list/predictions_RGG_MDS.csv\")\n",
    "MDS_FA = pd.read_csv(\"E:/AML_project/DATASETS/predictions/separate/Nuevos_vGa_list/predictions_CovG_AML.csv\")\n",
    "MDS_DC = pd.read_csv(\"E:/AML_project/DATASETS/predictions/separate/Nuevos_vGa_list/predictions_CoGG_MDS.csv\")\n",
    "print(Counter(AML_FA.predic_label))\n",
    "print(Counter(AML_DC.predic_label))\n",
    "print(Counter(MDS_FA.predic_label))\n",
    "print(Counter(MDS_DC.predic_label))"
   ]
  }
 ],
 "metadata": {
  "kernelspec": {
   "display_name": "Python 3 (ipykernel)",
   "language": "python",
   "name": "python3"
  },
  "language_info": {
   "codemirror_mode": {
    "name": "ipython",
    "version": 3
   },
   "file_extension": ".py",
   "mimetype": "text/x-python",
   "name": "python",
   "nbconvert_exporter": "python",
   "pygments_lexer": "ipython3",
   "version": "3.9.12"
  }
 },
 "nbformat": 4,
 "nbformat_minor": 5
}
